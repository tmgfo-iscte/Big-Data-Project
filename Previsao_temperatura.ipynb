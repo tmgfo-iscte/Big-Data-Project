{
 "cells": [
  {
   "cell_type": "code",
   "execution_count": 1,
   "id": "91960162-d6bd-4f7d-b6b5-55931ecd9a8b",
   "metadata": {
    "execution": {
     "iopub.execute_input": "2022-05-26T09:02:27.061955Z",
     "iopub.status.busy": "2022-05-26T09:02:27.061733Z",
     "iopub.status.idle": "2022-05-26T09:03:06.558255Z",
     "shell.execute_reply": "2022-05-26T09:03:06.557621Z",
     "shell.execute_reply.started": "2022-05-26T09:02:27.061930Z"
    }
   },
   "outputs": [
    {
     "data": {
      "application/vnd.jupyter.widget-view+json": {
       "model_id": "46e3a5b91c6844318352fa733931b486",
       "version_major": 2,
       "version_minor": 0
      },
      "text/plain": [
       "VBox()"
      ]
     },
     "metadata": {},
     "output_type": "display_data"
    },
    {
     "name": "stdout",
     "output_type": "stream",
     "text": [
      "Starting Spark application\n"
     ]
    },
    {
     "data": {
      "text/html": [
       "<table>\n",
       "<tr><th>ID</th><th>YARN Application ID</th><th>Kind</th><th>State</th><th>Spark UI</th><th>Driver log</th><th>Current session?</th></tr><tr><td>0</td><td>application_1653555538444_0001</td><td>pyspark</td><td>idle</td><td><a target=\"_blank\" href=\"http://ip-172-31-69-167.ec2.internal:20888/proxy/application_1653555538444_0001/\" class=\"emr-proxy-link\" emr-resource=\"j-MQAZ7Y6CH9IK\n",
       "\" application-id=\"application_1653555538444_0001\">Link</a></td><td><a target=\"_blank\" href=\"http://ip-172-31-75-128.ec2.internal:8042/node/containerlogs/container_1653555538444_0001_01_000001/livy\" >Link</a></td><td>✔</td></tr></table>"
      ],
      "text/plain": [
       "<IPython.core.display.HTML object>"
      ]
     },
     "metadata": {},
     "output_type": "display_data"
    },
    {
     "data": {
      "application/vnd.jupyter.widget-view+json": {
       "model_id": "",
       "version_major": 2,
       "version_minor": 0
      },
      "text/plain": [
       "FloatProgress(value=0.0, bar_style='info', description='Progress:', layout=Layout(height='25px', width='50%'),…"
      ]
     },
     "metadata": {},
     "output_type": "display_data"
    },
    {
     "name": "stdout",
     "output_type": "stream",
     "text": [
      "SparkSession available as 'spark'.\n"
     ]
    },
    {
     "data": {
      "application/vnd.jupyter.widget-view+json": {
       "model_id": "",
       "version_major": 2,
       "version_minor": 0
      },
      "text/plain": [
       "FloatProgress(value=0.0, bar_style='info', description='Progress:', layout=Layout(height='25px', width='50%'),…"
      ]
     },
     "metadata": {},
     "output_type": "display_data"
    }
   ],
   "source": [
    "#alguns imports\n",
    "\n",
    "import sys\n",
    "import os\n",
    "\n",
    "from pyspark.sql import SparkSession\n",
    "from pyspark.sql.functions import *\n",
    "import pyspark.sql.functions as psf\n",
    "from pyspark.sql.types import *\n",
    "\n",
    "from pyspark.ml import Pipeline\n",
    "from pyspark.ml.stat import Correlation\n",
    "from pyspark.ml.feature import Imputer, VectorAssembler\n",
    "from pyspark.ml.regression import LinearRegression\n",
    "from pyspark.ml.evaluation import RegressionEvaluator\n",
    "from pyspark.ml.linalg import Vectors\n",
    "\n",
    "import numpy as np \n",
    "import pandas as pd \n",
    "import matplotlib.pyplot as plt\n",
    "import seaborn as sns\n",
    "\n",
    "import warnings\n",
    "warnings.filterwarnings(\"ignore\")\n"
   ]
  },
  {
   "cell_type": "code",
   "execution_count": 2,
   "id": "467ee45b-852d-46ae-b678-55da6f95ed5e",
   "metadata": {
    "execution": {
     "iopub.execute_input": "2022-05-26T09:03:06.559430Z",
     "iopub.status.busy": "2022-05-26T09:03:06.559264Z",
     "iopub.status.idle": "2022-05-26T09:03:06.654573Z",
     "shell.execute_reply": "2022-05-26T09:03:06.653988Z",
     "shell.execute_reply.started": "2022-05-26T09:03:06.559410Z"
    }
   },
   "outputs": [
    {
     "data": {
      "application/vnd.jupyter.widget-view+json": {
       "model_id": "19006ad508ca4e4487b23a6b72560d10",
       "version_major": 2,
       "version_minor": 0
      },
      "text/plain": [
       "VBox()"
      ]
     },
     "metadata": {},
     "output_type": "display_data"
    },
    {
     "data": {
      "application/vnd.jupyter.widget-view+json": {
       "model_id": "",
       "version_major": 2,
       "version_minor": 0
      },
      "text/plain": [
       "FloatProgress(value=0.0, bar_style='info', description='Progress:', layout=Layout(height='25px', width='50%'),…"
      ]
     },
     "metadata": {},
     "output_type": "display_data"
    }
   ],
   "source": [
    "\n",
    "#criar uma instância SparkSession\n",
    "\n",
    "#spark = SparkSession\\\n",
    "    #.builder\\\n",
    "    #.appName(\"Dataset\")\\\n",
    "    #.config(\"spark.sql.shuffle.partitions\",6)\\\n",
    "    #.config(\"spark.sql.repl.eagerEval.enabled\", True)\\\n",
    "    #.getOrCreate()\n"
   ]
  },
  {
   "cell_type": "code",
   "execution_count": 3,
   "id": "83101363-01df-49c2-b4b7-a9c2527814f0",
   "metadata": {
    "execution": {
     "iopub.execute_input": "2022-05-26T09:03:06.655922Z",
     "iopub.status.busy": "2022-05-26T09:03:06.655748Z",
     "iopub.status.idle": "2022-05-26T09:18:45.345736Z",
     "shell.execute_reply": "2022-05-26T09:18:45.345026Z",
     "shell.execute_reply.started": "2022-05-26T09:03:06.655901Z"
    }
   },
   "outputs": [
    {
     "data": {
      "application/vnd.jupyter.widget-view+json": {
       "model_id": "c24b9f4c346340b7bc19d51803eec89e",
       "version_major": 2,
       "version_minor": 0
      },
      "text/plain": [
       "VBox()"
      ]
     },
     "metadata": {},
     "output_type": "display_data"
    },
    {
     "data": {
      "application/vnd.jupyter.widget-view+json": {
       "model_id": "",
       "version_major": 2,
       "version_minor": 0
      },
      "text/plain": [
       "FloatProgress(value=0.0, bar_style='info', description='Progress:', layout=Layout(height='25px', width='50%'),…"
      ]
     },
     "metadata": {},
     "output_type": "display_data"
    }
   ],
   "source": [
    "\n",
    "#Leitura do dataset\n",
    "df_raw = spark.read.csv(\"s3://bigdatanoaa/Dataset/\", header=\"false\", inferSchema=\"true\", sep=\",\")   \n",
    "#Renomear as colunas\n",
    "df_raw = df_raw.toDF(\"ID\", \"DATE\", \"ELEMENT\", \"DATA VALUE\", \"MFLAG\", \"QFLAG\", \"SFLAG\", \"OBS_TIME\")  \n",
    "\n",
    "#Leitura do ficheiro de dados relativo aos países\n",
    "df_countries = spark.read.csv(\"s3://bigdatanoaa/ghcnd-countries.csv\", header=\"false\", inferSchema=\"true\", sep=\";\")\n",
    "#Renomear as colunas\n",
    "df_countries = df_countries.toDF(\"CÓDIGO\",\"PAÍS\",\"CONTINENTE\")\n"
   ]
  },
  {
   "cell_type": "code",
   "execution_count": 4,
   "id": "b738c0ad-ecb5-4a58-82c3-1c5272aa15e3",
   "metadata": {
    "execution": {
     "iopub.execute_input": "2022-05-26T09:18:45.347111Z",
     "iopub.status.busy": "2022-05-26T09:18:45.346942Z",
     "iopub.status.idle": "2022-05-26T09:18:45.603906Z",
     "shell.execute_reply": "2022-05-26T09:18:45.603139Z",
     "shell.execute_reply.started": "2022-05-26T09:18:45.347090Z"
    },
    "tags": []
   },
   "outputs": [
    {
     "data": {
      "application/vnd.jupyter.widget-view+json": {
       "model_id": "057239005de44c7d89599523b689207f",
       "version_major": 2,
       "version_minor": 0
      },
      "text/plain": [
       "VBox()"
      ]
     },
     "metadata": {},
     "output_type": "display_data"
    },
    {
     "data": {
      "application/vnd.jupyter.widget-view+json": {
       "model_id": "",
       "version_major": 2,
       "version_minor": 0
      },
      "text/plain": [
       "FloatProgress(value=0.0, bar_style='info', description='Progress:', layout=Layout(height='25px', width='50%'),…"
      ]
     },
     "metadata": {},
     "output_type": "display_data"
    }
   ],
   "source": [
    "\n",
    "#colunas irrelevantes\n",
    "cols_to_drop = ['MFLAG', 'QFLAG', 'SFLAG', 'OBS_TIME']\n",
    "\n",
    "#colunas de interesse\n",
    "cols_interest = [x for x in df_raw.columns if x not in cols_to_drop]\n",
    "\n",
    "#eliminação das colunas irrelevantes\n",
    "df_raw_interest = df_raw.select(cols_interest)\n"
   ]
  },
  {
   "cell_type": "code",
   "execution_count": 5,
   "id": "f24e0194-1008-421d-a859-ea4e37224c0a",
   "metadata": {
    "execution": {
     "iopub.execute_input": "2022-05-26T09:18:45.604977Z",
     "iopub.status.busy": "2022-05-26T09:18:45.604792Z",
     "iopub.status.idle": "2022-05-26T09:18:45.875178Z",
     "shell.execute_reply": "2022-05-26T09:18:45.874365Z",
     "shell.execute_reply.started": "2022-05-26T09:18:45.604953Z"
    },
    "tags": []
   },
   "outputs": [
    {
     "data": {
      "application/vnd.jupyter.widget-view+json": {
       "model_id": "7b6034af89af4e23ac7a48f79af534ad",
       "version_major": 2,
       "version_minor": 0
      },
      "text/plain": [
       "VBox()"
      ]
     },
     "metadata": {},
     "output_type": "display_data"
    },
    {
     "data": {
      "application/vnd.jupyter.widget-view+json": {
       "model_id": "",
       "version_major": 2,
       "version_minor": 0
      },
      "text/plain": [
       "FloatProgress(value=0.0, bar_style='info', description='Progress:', layout=Layout(height='25px', width='50%'),…"
      ]
     },
     "metadata": {},
     "output_type": "display_data"
    }
   ],
   "source": [
    "\n",
    "# Os valores correspondentes às temperaturas e preciciptação apresentam inicialmente um formato de tenth of degrees\n",
    "# É preciso dividir esses valores por 10 de modo a obter o valor em graus centígrados\n",
    "\n",
    "df_raw_interest = df_raw_interest.withColumn(\"DATA VALUE\",\n",
    "    when((col(\"ELEMENT\") == \"TMAX\")|(col(\"ELEMENT\") == \"TMIN\")|(col(\"ELEMENT\") == \"TAVG\")|(col(\"ELEMENT\") == \"PRCP\"),\n",
    "    round((col(\"DATA VALUE\")/10),2)).otherwise(col(\"DATA VALUE\")))\n"
   ]
  },
  {
   "cell_type": "code",
   "execution_count": 6,
   "id": "c54eb353-8638-4ac4-bf58-b4fc0191055c",
   "metadata": {
    "execution": {
     "iopub.execute_input": "2022-05-26T09:18:45.876319Z",
     "iopub.status.busy": "2022-05-26T09:18:45.876122Z",
     "iopub.status.idle": "2022-05-26T09:18:46.138325Z",
     "shell.execute_reply": "2022-05-26T09:18:46.137554Z",
     "shell.execute_reply.started": "2022-05-26T09:18:45.876296Z"
    },
    "tags": []
   },
   "outputs": [
    {
     "data": {
      "application/vnd.jupyter.widget-view+json": {
       "model_id": "2be6194157364f99971b6e7d871c0582",
       "version_major": 2,
       "version_minor": 0
      },
      "text/plain": [
       "VBox()"
      ]
     },
     "metadata": {},
     "output_type": "display_data"
    },
    {
     "data": {
      "application/vnd.jupyter.widget-view+json": {
       "model_id": "",
       "version_major": 2,
       "version_minor": 0
      },
      "text/plain": [
       "FloatProgress(value=0.0, bar_style='info', description='Progress:', layout=Layout(height='25px', width='50%'),…"
      ]
     },
     "metadata": {},
     "output_type": "display_data"
    }
   ],
   "source": [
    "\n",
    "#Junção dos dados com o ficheiro que contém o código e o nome dos países\n",
    "join_data = df_raw_interest.join(df_countries).where(col(\"ID\").substr(1,2) == df_countries[\"CÓDIGO\"]).drop(df_raw[\"ID\"])\n",
    "\n",
    "#Filtramos apenas a temperatura média\n",
    "df_raw2 = join_data.filter(col(\"ELEMENT\") == \"TAVG\")\n",
    "\n",
    "#Passagem das datas para forma de data de modo a conseguirmos comparar as datas\n",
    "new_data = df_raw2.withColumn(\"DATE\",to_date(col(\"DATE\").cast(StringType()),\"yyyyMMdd\"))\n"
   ]
  },
  {
   "cell_type": "code",
   "execution_count": 7,
   "id": "304acc55-1bfa-4cb0-964c-1a80304febfc",
   "metadata": {
    "execution": {
     "iopub.execute_input": "2022-05-26T09:18:46.139561Z",
     "iopub.status.busy": "2022-05-26T09:18:46.139388Z",
     "iopub.status.idle": "2022-05-26T09:30:51.621914Z",
     "shell.execute_reply": "2022-05-26T09:30:51.621281Z",
     "shell.execute_reply.started": "2022-05-26T09:18:46.139541Z"
    },
    "tags": []
   },
   "outputs": [
    {
     "data": {
      "application/vnd.jupyter.widget-view+json": {
       "model_id": "44a1911512954485855403ef01ef7174",
       "version_major": 2,
       "version_minor": 0
      },
      "text/plain": [
       "VBox()"
      ]
     },
     "metadata": {},
     "output_type": "display_data"
    },
    {
     "data": {
      "application/vnd.jupyter.widget-view+json": {
       "model_id": "",
       "version_major": 2,
       "version_minor": 0
      },
      "text/plain": [
       "FloatProgress(value=0.0, bar_style='info', description='Progress:', layout=Layout(height='25px', width='50%'),…"
      ]
     },
     "metadata": {},
     "output_type": "display_data"
    },
    {
     "name": "stdout",
     "output_type": "stream",
     "text": [
      "+-----------------+\n",
      "|  avg(DATA VALUE)|\n",
      "+-----------------+\n",
      "|9.616642640843063|\n",
      "+-----------------+"
     ]
    }
   ],
   "source": [
    "\n",
    "#Apresentação do resultado que representa o valor de temperatura média em todo o mundo\n",
    "#durante os anos disponíveis no nosso dataset, ou seja, entre os anos 1763 e 2022\n",
    "df_raw2.select(avg(\"DATA VALUE\")).show()\n"
   ]
  },
  {
   "cell_type": "code",
   "execution_count": 8,
   "id": "43d9df86-1d29-4b33-83ff-bde613a4643f",
   "metadata": {
    "execution": {
     "iopub.execute_input": "2022-05-26T09:30:51.623724Z",
     "iopub.status.busy": "2022-05-26T09:30:51.623545Z",
     "iopub.status.idle": "2022-05-26T09:30:51.887877Z",
     "shell.execute_reply": "2022-05-26T09:30:51.887220Z",
     "shell.execute_reply.started": "2022-05-26T09:30:51.623702Z"
    },
    "tags": []
   },
   "outputs": [
    {
     "data": {
      "application/vnd.jupyter.widget-view+json": {
       "model_id": "20d133743bea43838a81403b05095bd2",
       "version_major": 2,
       "version_minor": 0
      },
      "text/plain": [
       "VBox()"
      ]
     },
     "metadata": {},
     "output_type": "display_data"
    },
    {
     "data": {
      "application/vnd.jupyter.widget-view+json": {
       "model_id": "",
       "version_major": 2,
       "version_minor": 0
      },
      "text/plain": [
       "FloatProgress(value=0.0, bar_style='info', description='Progress:', layout=Layout(height='25px', width='50%'),…"
      ]
     },
     "metadata": {},
     "output_type": "display_data"
    }
   ],
   "source": [
    "\n",
    "#Filtragem de modo a obter todas as observações registadas entre os anos 2000 e 2021\n",
    "df_real = new_data.filter((year(col(\"DATE\"))>=2000) & (year(col(\"DATE\"))<2022))\n",
    "\n",
    "#Agrupação de modo a obter os valores de temperatura média para cada continente\n",
    "df_real2 = df_real.groupBy(\"CONTINENTE\",year(col(\"DATE\"))).avg(\"DATA VALUE\")\n",
    "\n",
    "#Renomear as colunas\n",
    "df_real3 = df_real2.toDF(\"CONTINENTE\",\"ANO\",\"TAVG\")\n"
   ]
  },
  {
   "cell_type": "code",
   "execution_count": 9,
   "id": "b79149c5-7a12-4c7c-923d-504ab6933870",
   "metadata": {
    "execution": {
     "iopub.execute_input": "2022-05-26T09:30:51.889104Z",
     "iopub.status.busy": "2022-05-26T09:30:51.888927Z",
     "iopub.status.idle": "2022-05-26T09:45:05.653937Z",
     "shell.execute_reply": "2022-05-26T09:45:05.653272Z",
     "shell.execute_reply.started": "2022-05-26T09:30:51.889084Z"
    },
    "tags": []
   },
   "outputs": [
    {
     "data": {
      "application/vnd.jupyter.widget-view+json": {
       "model_id": "2a81e3c2fc7346d6a71f4fe9cb0098ce",
       "version_major": 2,
       "version_minor": 0
      },
      "text/plain": [
       "VBox()"
      ]
     },
     "metadata": {},
     "output_type": "display_data"
    },
    {
     "data": {
      "application/vnd.jupyter.widget-view+json": {
       "model_id": "",
       "version_major": 2,
       "version_minor": 0
      },
      "text/plain": [
       "FloatProgress(value=0.0, bar_style='info', description='Progress:', layout=Layout(height='25px', width='50%'),…"
      ]
     },
     "metadata": {},
     "output_type": "display_data"
    }
   ],
   "source": [
    "\n",
    "#Passagem do tipo do ano para String de modo a facilitar a observação do gráfico\n",
    "df_real4 = df_real3.withColumn(\"ANO\",col(\"ANO\").cast(StringType()))\n",
    "\n",
    "#Ordenação por ordem crescente de ano\n",
    "df_region = df_real4.orderBy(\"ANO\",ascending=True).toPandas()\n"
   ]
  },
  {
   "cell_type": "code",
   "execution_count": 10,
   "id": "75e2d49c-c798-4959-a136-445e8d452b36",
   "metadata": {
    "execution": {
     "iopub.execute_input": "2022-05-26T09:45:05.655347Z",
     "iopub.status.busy": "2022-05-26T09:45:05.655092Z",
     "iopub.status.idle": "2022-05-26T09:45:06.455820Z",
     "shell.execute_reply": "2022-05-26T09:45:06.455219Z",
     "shell.execute_reply.started": "2022-05-26T09:45:05.655314Z"
    },
    "tags": []
   },
   "outputs": [
    {
     "data": {
      "application/vnd.jupyter.widget-view+json": {
       "model_id": "76e7bc541ac54f4181540f2d1e6e53fb",
       "version_major": 2,
       "version_minor": 0
      },
      "text/plain": [
       "VBox()"
      ]
     },
     "metadata": {},
     "output_type": "display_data"
    },
    {
     "data": {
      "application/vnd.jupyter.widget-view+json": {
       "model_id": "",
       "version_major": 2,
       "version_minor": 0
      },
      "text/plain": [
       "FloatProgress(value=0.0, bar_style='info', description='Progress:', layout=Layout(height='25px', width='50%'),…"
      ]
     },
     "metadata": {},
     "output_type": "display_data"
    },
    {
     "data": {
      "image/png": "[encoded data removed]",
      "text/plain": [
       "<IPython.core.display.Image object>"
      ]
     },
     "metadata": {},
     "output_type": "display_data"
    }
   ],
   "source": [
    "\n",
    "#São feitos os imports novamente de modo a permitir a visualização do gráfico\n",
    "import matplotlib.pyplot as plt\n",
    "import matplotlib\n",
    "import seaborn as sns\n",
    "\n",
    "\n",
    "#Construção do gráfico de Evolução da temperatura média dos diferentes continentes entre 1980-2021\n",
    "plt.plot(figsize=(40,12))\n",
    "sns.lineplot(y=\"TAVG\",x=\"ANO\",data=df_region,hue=\"CONTINENTE\")\n",
    "plt.xlabel('Ano')\n",
    "plt.ylabel('Temperatura[C]')\n",
    "plt.title('Evolucao da temperatura media dos diferentes continentes entre 1980-2021',fontsize=10)\n",
    "plt.gcf().autofmt_xdate()\n",
    "plt.grid()\n",
    "plt.show()\n",
    "\n",
    "#Comando local para permitir a visualização do gráfico\n",
    "%matplot plt\n"
   ]
  },
  {
   "cell_type": "code",
   "execution_count": 11,
   "id": "920cce8f-b51e-4082-85fa-6caba1160bb0",
   "metadata": {
    "execution": {
     "iopub.execute_input": "2022-05-26T09:45:06.456903Z",
     "iopub.status.busy": "2022-05-26T09:45:06.456735Z",
     "iopub.status.idle": "2022-05-26T09:45:06.510298Z",
     "shell.execute_reply": "2022-05-26T09:45:06.509691Z",
     "shell.execute_reply.started": "2022-05-26T09:45:06.456883Z"
    }
   },
   "outputs": [
    {
     "data": {
      "application/vnd.jupyter.widget-view+json": {
       "model_id": "819ea85a90a247adb5beff4b26eb3199",
       "version_major": 2,
       "version_minor": 0
      },
      "text/plain": [
       "VBox()"
      ]
     },
     "metadata": {},
     "output_type": "display_data"
    },
    {
     "data": {
      "application/vnd.jupyter.widget-view+json": {
       "model_id": "",
       "version_major": 2,
       "version_minor": 0
      },
      "text/plain": [
       "FloatProgress(value=0.0, bar_style='info', description='Progress:', layout=Layout(height='25px', width='50%'),…"
      ]
     },
     "metadata": {},
     "output_type": "display_data"
    }
   ],
   "source": [
    "#Construção de um modelo de regressão linear para prever temperaturas\n",
    "\n",
    "#Substituição da coluna que contém as datas pelo seu ano respetivo\n",
    "#modelo = new_data.withColumn(\"DATE\",year(col(\"DATE\")))\n",
    "\n",
    "#Renomeação de colunas\n",
    "#modelo = modelo.toDF(\"ANO\",\"ELEMENT\",\"DATA VALUE\", \"CÓDIGO\", \"PAÍS\", \"CONTINENTE\")\n",
    "\n",
    "#Construção do vetor assembler\n",
    "#assembler = VectorAssembler(inputCols=[\"ANO\"],outputCol=\"features\")\n",
    "#vec_assembler = assembler.transform(modelo)\n",
    "\n",
    "#Os dados obtidos para o continente Europeu são separados em dois grupos de forma aleatória\n",
    "#df_train, df_test = vec_assembler.randomSplit([0.8, 0.2],seed=42)\n",
    "\n",
    "#Construção do modelo de Regressão Linear\n",
    "#lr = LinearRegression(featuresCol=\"features\", labelCol=\"DATA VALUE\")\n",
    "#lr_model = lr.fit(df_train)\n",
    "\n",
    "#É criada uma nova colunas com os valores previstos\n",
    "#predictions = model.transform(df_test)\n",
    "\n",
    "#Retorno do número de linhas da parte de treino e da parte de teste\n",
    "#print(f\"Existem {df_train.count()} linhas no training set e {df_test.count()} no test set\")\n"
   ]
  },
  {
   "cell_type": "code",
   "execution_count": 12,
   "id": "32ab9ba4-4fab-44d0-b192-413e13466bb9",
   "metadata": {
    "execution": {
     "iopub.execute_input": "2022-05-26T09:45:06.511363Z",
     "iopub.status.busy": "2022-05-26T09:45:06.511193Z",
     "iopub.status.idle": "2022-05-26T09:45:06.565743Z",
     "shell.execute_reply": "2022-05-26T09:45:06.565100Z",
     "shell.execute_reply.started": "2022-05-26T09:45:06.511342Z"
    }
   },
   "outputs": [
    {
     "data": {
      "application/vnd.jupyter.widget-view+json": {
       "model_id": "ea605b7d63314e28af1aba5fd7fb289b",
       "version_major": 2,
       "version_minor": 0
      },
      "text/plain": [
       "VBox()"
      ]
     },
     "metadata": {},
     "output_type": "display_data"
    },
    {
     "data": {
      "application/vnd.jupyter.widget-view+json": {
       "model_id": "",
       "version_major": 2,
       "version_minor": 0
      },
      "text/plain": [
       "FloatProgress(value=0.0, bar_style='info', description='Progress:', layout=Layout(height='25px', width='50%'),…"
      ]
     },
     "metadata": {},
     "output_type": "display_data"
    }
   ],
   "source": [
    "\n",
    "#Ordenação dos valore reais por ordem crescente de ano\n",
    "#df_real = predictions.filter(col(\"CONTINENTE\") == \"Europe\")\n",
    "#df_real_plot = df_real.groupBy(\"ANO\").avg(\"DATA VALUE\")\n",
    "#df_real_plot = df_real_plot.orderBy(\"ANO\",ascending=True).toPandas()\n",
    "\n",
    "#Ordenação dos valore previstos por ordem crescente de ano\n",
    "#df_predict = predictions.filter(col(\"CONTINENTE\") == \"Europe\")\n",
    "#df_predict_plot = df_predict.groupBy(\"ANO\").avg(\"prediction\")\n",
    "#df_predict_plot = df_predict_plot.orderBy(\"ANO\",ascending=True).toPandas()\n",
    "\n",
    "#Construção do gráfico da evolução da temperatura média na Europa entre 2000 e 2010\n",
    "#plt.plot(df_real_plot[\"ANO\"],df_real_plot[\"avg(DATA VALUE)\"], color='b', label= 'Valores registados')\n",
    "#plt.plot(df_predict_plot[\"ANO\"],df_predict_plot[\"avg(prediction)\"], color = 'r',label = 'Valores previstos')\n",
    "#plt.xlabel('ANOS')\n",
    "#plt.ylabel('TEMPERATURA MÉDIA [°C]')\n",
    "#plt.title('Evolução da temperatura média na Europa entre 2000-2010');\n",
    "#plt.legend()\n"
   ]
  },
  {
   "cell_type": "code",
   "execution_count": null,
   "id": "ca35ccf4-bbd2-4e9d-9e5b-7e4386e5b8e3",
   "metadata": {},
   "outputs": [],
   "source": []
  }
 ],
 "metadata": {
  "kernelspec": {
   "display_name": "PySpark",
   "language": "",
   "name": "pysparkkernel"
  },
  "language_info": {
   "codemirror_mode": {
    "name": "python",
    "version": 3
   },
   "mimetype": "text/x-python",
   "name": "pyspark",
   "pygments_lexer": "python3"
  }
 },
 "nbformat": 4,
 "nbformat_minor": 5
}
