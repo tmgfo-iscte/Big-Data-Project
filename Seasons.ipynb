{
 "cells": [
  {
   "cell_type": "code",
   "execution_count": 1,
   "id": "4fb67c32-0895-42e6-b08c-d81242795fc3",
   "metadata": {
    "execution": {
     "iopub.execute_input": "2022-05-25T09:08:50.185143Z",
     "iopub.status.busy": "2022-05-25T09:08:50.184924Z",
     "iopub.status.idle": "2022-05-25T09:09:27.401801Z",
     "shell.execute_reply": "2022-05-25T09:09:27.401061Z",
     "shell.execute_reply.started": "2022-05-25T09:08:50.185119Z"
    }
   },
   "outputs": [
    {
     "data": {
      "application/vnd.jupyter.widget-view+json": {
       "model_id": "9075c92a534541ac913a405ce4c5103d",
       "version_major": 2,
       "version_minor": 0
      },
      "text/plain": [
       "VBox()"
      ]
     },
     "metadata": {},
     "output_type": "display_data"
    },
    {
     "name": "stdout",
     "output_type": "stream",
     "text": [
      "Starting Spark application\n"
     ]
    },
    {
     "data": {
      "text/html": [
       "<table>\n",
       "<tr><th>ID</th><th>YARN Application ID</th><th>Kind</th><th>State</th><th>Spark UI</th><th>Driver log</th><th>Current session?</th></tr><tr><td>0</td><td>application_1653469420617_0001</td><td>pyspark</td><td>idle</td><td><a target=\"_blank\" href=\"http://ip-172-31-66-118.ec2.internal:20888/proxy/application_1653469420617_0001/\" class=\"emr-proxy-link\" emr-resource=\"j-S1MU3UB75YSC\n",
       "\" application-id=\"application_1653469420617_0001\">Link</a></td><td><a target=\"_blank\" href=\"http://ip-172-31-72-231.ec2.internal:8042/node/containerlogs/container_1653469420617_0001_01_000001/livy\" >Link</a></td><td>✔</td></tr></table>"
      ],
      "text/plain": [
       "<IPython.core.display.HTML object>"
      ]
     },
     "metadata": {},
     "output_type": "display_data"
    },
    {
     "data": {
      "application/vnd.jupyter.widget-view+json": {
       "model_id": "",
       "version_major": 2,
       "version_minor": 0
      },
      "text/plain": [
       "FloatProgress(value=0.0, bar_style='info', description='Progress:', layout=Layout(height='25px', width='50%'),…"
      ]
     },
     "metadata": {},
     "output_type": "display_data"
    },
    {
     "name": "stdout",
     "output_type": "stream",
     "text": [
      "SparkSession available as 'spark'.\n"
     ]
    },
    {
     "data": {
      "application/vnd.jupyter.widget-view+json": {
       "model_id": "",
       "version_major": 2,
       "version_minor": 0
      },
      "text/plain": [
       "FloatProgress(value=0.0, bar_style='info', description='Progress:', layout=Layout(height='25px', width='50%'),…"
      ]
     },
     "metadata": {},
     "output_type": "display_data"
    }
   ],
   "source": [
    "#alguns imports\n",
    "\n",
    "import sys\n",
    "import os\n",
    "\n",
    "from pyspark.sql import SparkSession\n",
    "from pyspark.sql.functions import *\n",
    "import pyspark.sql.functions as psf\n",
    "from pyspark.sql.types import *\n",
    "\n",
    "from pyspark.ml import Pipeline\n",
    "from pyspark.ml.stat import Correlation\n",
    "from pyspark.ml.feature import Imputer, VectorAssembler\n",
    "from pyspark.ml.regression import LinearRegression\n",
    "from pyspark.ml.evaluation import RegressionEvaluator\n",
    "\n",
    "import numpy as np \n",
    "import pandas as pd  \n",
    "import matplotlib.pyplot as plt\n",
    "import seaborn as sns\n",
    "\n",
    "import warnings\n",
    "warnings.filterwarnings(\"ignore\")\n"
   ]
  },
  {
   "cell_type": "code",
   "execution_count": 2,
   "id": "253a4466-f31c-4ed6-9f18-4cd482c02796",
   "metadata": {
    "execution": {
     "iopub.execute_input": "2022-05-25T09:09:27.403019Z",
     "iopub.status.busy": "2022-05-25T09:09:27.402845Z",
     "iopub.status.idle": "2022-05-25T09:09:29.767011Z",
     "shell.execute_reply": "2022-05-25T09:09:29.766280Z",
     "shell.execute_reply.started": "2022-05-25T09:09:27.402998Z"
    }
   },
   "outputs": [
    {
     "data": {
      "application/vnd.jupyter.widget-view+json": {
       "model_id": "53a7acbd02d048138ac60047b7cb652c",
       "version_major": 2,
       "version_minor": 0
      },
      "text/plain": [
       "VBox()"
      ]
     },
     "metadata": {},
     "output_type": "display_data"
    },
    {
     "data": {
      "application/vnd.jupyter.widget-view+json": {
       "model_id": "",
       "version_major": 2,
       "version_minor": 0
      },
      "text/plain": [
       "FloatProgress(value=0.0, bar_style='info', description='Progress:', layout=Layout(height='25px', width='50%'),…"
      ]
     },
     "metadata": {},
     "output_type": "display_data"
    }
   ],
   "source": [
    "\n",
    "#criar uma instância SparkSession\n",
    "\n",
    "spark = SparkSession\\\n",
    "    .builder\\\n",
    "    .appName(\"Dataset\")\\\n",
    "    .config(\"spark.sql.shuffle.partitions\",6)\\\n",
    "    .config(\"spark.sql.repl.eagerEval.enabled\", True)\\\n",
    "    .getOrCreate()\n"
   ]
  },
  {
   "cell_type": "code",
   "execution_count": 3,
   "id": "a37420a8-4e9a-47ec-a554-dd11df00bf24",
   "metadata": {
    "execution": {
     "iopub.execute_input": "2022-05-25T09:09:29.774162Z",
     "iopub.status.busy": "2022-05-25T09:09:29.771530Z",
     "iopub.status.idle": "2022-05-25T09:25:12.603242Z",
     "shell.execute_reply": "2022-05-25T09:25:12.602537Z",
     "shell.execute_reply.started": "2022-05-25T09:09:29.774118Z"
    }
   },
   "outputs": [
    {
     "data": {
      "application/vnd.jupyter.widget-view+json": {
       "model_id": "bfa0e1bc2e9a44fc9c769fa29f22e6ea",
       "version_major": 2,
       "version_minor": 0
      },
      "text/plain": [
       "VBox()"
      ]
     },
     "metadata": {},
     "output_type": "display_data"
    },
    {
     "data": {
      "application/vnd.jupyter.widget-view+json": {
       "model_id": "",
       "version_major": 2,
       "version_minor": 0
      },
      "text/plain": [
       "FloatProgress(value=0.0, bar_style='info', description='Progress:', layout=Layout(height='25px', width='50%'),…"
      ]
     },
     "metadata": {},
     "output_type": "display_data"
    }
   ],
   "source": [
    "\n",
    "#leitura do dataset\n",
    "df_raw = spark.read.csv(\"s3://bigdatanoaa/Dataset/\", header=\"false\", inferSchema=\"true\", sep=\",\")   \n",
    "\n",
    "#renomear as colunas\n",
    "df_raw = df_raw.toDF(\"ID\", \"DATE\", \"ELEMENT\", \"DATA VALUE\", \"MFLAG\", \"QFLAG\", \"SFLAG\", \"OBS_TIME\") \n"
   ]
  },
  {
   "cell_type": "code",
   "execution_count": 4,
   "id": "78ff2fa0-1270-4a3a-bdca-e1e0d8072d1d",
   "metadata": {
    "execution": {
     "iopub.execute_input": "2022-05-25T09:25:12.604961Z",
     "iopub.status.busy": "2022-05-25T09:25:12.604708Z",
     "iopub.status.idle": "2022-05-25T09:25:12.901394Z",
     "shell.execute_reply": "2022-05-25T09:25:12.900693Z",
     "shell.execute_reply.started": "2022-05-25T09:25:12.604927Z"
    },
    "tags": []
   },
   "outputs": [
    {
     "data": {
      "application/vnd.jupyter.widget-view+json": {
       "model_id": "49fe1f08b5874563a0a1edb17fa8906d",
       "version_major": 2,
       "version_minor": 0
      },
      "text/plain": [
       "VBox()"
      ]
     },
     "metadata": {},
     "output_type": "display_data"
    },
    {
     "data": {
      "application/vnd.jupyter.widget-view+json": {
       "model_id": "",
       "version_major": 2,
       "version_minor": 0
      },
      "text/plain": [
       "FloatProgress(value=0.0, bar_style='info', description='Progress:', layout=Layout(height='25px', width='50%'),…"
      ]
     },
     "metadata": {},
     "output_type": "display_data"
    }
   ],
   "source": [
    "\n",
    "#colunas irrelevantes\n",
    "cols_to_drop = ['MFLAG', 'QFLAG', 'SFLAG', 'OBS_TIME']\n",
    "\n",
    "#colunas de interesse\n",
    "cols_interest = [x for x in df_raw.columns if x not in cols_to_drop]\n",
    "\n",
    "#eliminação das colunas irrelevantes\n",
    "df_raw_interest = df_raw.select(cols_interest)\n"
   ]
  },
  {
   "cell_type": "code",
   "execution_count": 5,
   "id": "e94a94d3-31ac-4aaf-8f8f-60f907c55d00",
   "metadata": {
    "execution": {
     "iopub.execute_input": "2022-05-25T09:25:12.902534Z",
     "iopub.status.busy": "2022-05-25T09:25:12.902341Z",
     "iopub.status.idle": "2022-05-25T09:25:13.176758Z",
     "shell.execute_reply": "2022-05-25T09:25:13.176134Z",
     "shell.execute_reply.started": "2022-05-25T09:25:12.902508Z"
    }
   },
   "outputs": [
    {
     "data": {
      "application/vnd.jupyter.widget-view+json": {
       "model_id": "4fa78cabcb55421c854f2f3c0a916391",
       "version_major": 2,
       "version_minor": 0
      },
      "text/plain": [
       "VBox()"
      ]
     },
     "metadata": {},
     "output_type": "display_data"
    },
    {
     "data": {
      "application/vnd.jupyter.widget-view+json": {
       "model_id": "",
       "version_major": 2,
       "version_minor": 0
      },
      "text/plain": [
       "FloatProgress(value=0.0, bar_style='info', description='Progress:', layout=Layout(height='25px', width='50%'),…"
      ]
     },
     "metadata": {},
     "output_type": "display_data"
    }
   ],
   "source": [
    "\n",
    "# Os valores correspondentes às temperaturas e preciciptação apresentam inicialmente um formato de tenth of degrees\n",
    "# É preciso dividir esses valores por 10 de modo a obter o valor em graus centígrados\n",
    "\n",
    "df_raw_interest = df_raw_interest.withColumn(\"DATA VALUE\",\n",
    "    when((col(\"ELEMENT\") == \"TMAX\")|(col(\"ELEMENT\") == \"TMIN\")|(col(\"ELEMENT\") == \"TAVG\")|(col(\"ELEMENT\") == \"PRCP\"),\n",
    "    round((col(\"DATA VALUE\")/10),2)).otherwise(col(\"DATA VALUE\")))\n"
   ]
  },
  {
   "cell_type": "code",
   "execution_count": 6,
   "id": "a5b4f3e7-c24a-4a4c-8a16-94bfb87033d8",
   "metadata": {
    "execution": {
     "iopub.execute_input": "2022-05-25T09:25:13.178078Z",
     "iopub.status.busy": "2022-05-25T09:25:13.177826Z",
     "iopub.status.idle": "2022-05-25T09:25:13.450484Z",
     "shell.execute_reply": "2022-05-25T09:25:13.449798Z",
     "shell.execute_reply.started": "2022-05-25T09:25:13.178043Z"
    },
    "tags": []
   },
   "outputs": [
    {
     "data": {
      "application/vnd.jupyter.widget-view+json": {
       "model_id": "63afa04546f84cbc81b9cd7c6a996e96",
       "version_major": 2,
       "version_minor": 0
      },
      "text/plain": [
       "VBox()"
      ]
     },
     "metadata": {},
     "output_type": "display_data"
    },
    {
     "data": {
      "application/vnd.jupyter.widget-view+json": {
       "model_id": "",
       "version_major": 2,
       "version_minor": 0
      },
      "text/plain": [
       "FloatProgress(value=0.0, bar_style='info', description='Progress:', layout=Layout(height='25px', width='50%'),…"
      ]
     },
     "metadata": {},
     "output_type": "display_data"
    }
   ],
   "source": [
    "\n",
    "#Passagem das datas para forma de string de modo a conseguirmos separar o ano, mês e dia\n",
    "df_ano = df_raw_interest.withColumn(\"DATE\",col(\"DATE\").cast(StringType()))\n",
    "\n",
    "#Filtragem de modo a obter os dados relativos a Portugal no ano 2019\n",
    "df_ano = df_ano.filter((col(\"DATE\").substr(1,4) == \"2019\") & (col(\"ID\").substr(1,2) == \"PO\"))\n",
    "\n",
    "#Obtenção dos valores relativos à temperatura máxima\n",
    "df_max = df_ano.filter(col(\"ELEMENT\") == \"TMAX\")\n",
    "#Agrupamos os dados por mês, obtendo o valor máximo de temperatura para cada mês\n",
    "df_max = df_max.groupBy(col(\"DATE\").substr(5,2)).max(\"DATA VALUE\")\n",
    "#Ordenação dos dados por ordem crescente de mês\n",
    "df_max = df_max.orderBy(col(\"substring(DATE, 5, 2)\"))\n",
    "\n",
    "#Obtenção dos valores relativos à temperatura média\n",
    "df_avg = df_ano.filter(col(\"ELEMENT\") == \"TAVG\")\n",
    "#Agrupamos os dados por mês, obtendo o valor médio de temperatura para cada mês\n",
    "df_avg = df_avg.groupBy(col(\"DATE\").substr(5,2)).avg(\"DATA VALUE\")\n",
    "#Ordenação dos dados por ordem crescente de mês\n",
    "df_avg = df_avg.orderBy(col(\"substring(DATE, 5, 2)\"))\n",
    "\n",
    "#Obtenção dos valores relativos à temperatura máxima\n",
    "df_min = df_ano.filter(col(\"ELEMENT\") == \"TMIN\")\n",
    "#Agrupamos os dados por mês, obtendo o valor mínimo de temperatura para cada mês\n",
    "df_min = df_min.groupBy(col(\"DATE\").substr(5,2)).min(\"DATA VALUE\")\n",
    "#Ordenação dos dados por ordem crescente de mês\n",
    "df_min = df_min.orderBy(col(\"substring(DATE, 5, 2)\"))\n"
   ]
  },
  {
   "cell_type": "code",
   "execution_count": 7,
   "id": "f3a23ffd-9f2f-4385-a3cf-ccae229709c7",
   "metadata": {
    "execution": {
     "iopub.execute_input": "2022-05-25T09:25:13.451601Z",
     "iopub.status.busy": "2022-05-25T09:25:13.451422Z",
     "iopub.status.idle": "2022-05-25T10:05:21.899517Z",
     "shell.execute_reply": "2022-05-25T10:05:21.898811Z",
     "shell.execute_reply.started": "2022-05-25T09:25:13.451579Z"
    },
    "tags": []
   },
   "outputs": [
    {
     "data": {
      "application/vnd.jupyter.widget-view+json": {
       "model_id": "28a110ecbb3541b9904fec098a1bcca5",
       "version_major": 2,
       "version_minor": 0
      },
      "text/plain": [
       "VBox()"
      ]
     },
     "metadata": {},
     "output_type": "display_data"
    },
    {
     "data": {
      "application/vnd.jupyter.widget-view+json": {
       "model_id": "",
       "version_major": 2,
       "version_minor": 0
      },
      "text/plain": [
       "FloatProgress(value=0.0, bar_style='info', description='Progress:', layout=Layout(height='25px', width='50%'),…"
      ]
     },
     "metadata": {},
     "output_type": "display_data"
    },
    {
     "data": {
      "image/png": "[encoded data removed]",
      "text/plain": [
       "<IPython.core.display.Image object>"
      ]
     },
     "metadata": {},
     "output_type": "display_data"
    }
   ],
   "source": [
    "\n",
    "#São feitos os imports novamente de modo a permitir a visualização do gráfico\n",
    "import matplotlib.pyplot as plt\n",
    "import matplotlib\n",
    "import seaborn as sns\n",
    "\n",
    "#Construção do gráfico de variação da temperatura em Portugal no ano 2019\n",
    "plt.plot(figsize=(28,8))\n",
    "sns.lineplot(y=\"max(DATA VALUE)\",x=\"substring(DATE, 5, 2)\",data=df_max.toPandas(),label=\"Temperatura maxima\",color=\"red\")\n",
    "sns.lineplot(y=\"avg(DATA VALUE)\",x=\"substring(DATE, 5, 2)\",data=df_avg.toPandas(),label=\"Temperatura media\",color=\"yellow\")\n",
    "sns.lineplot(y=\"min(DATA VALUE)\",x=\"substring(DATE, 5, 2)\",data=df_min.toPandas(),label=\"Temperatura minima\",color=\"blue\")\n",
    "plt.title(\"Variacao da temperatura em Portugal no ano 2019\")\n",
    "plt.xlabel(\"Meses\")\n",
    "plt.ylabel(\"Tempeartura [C]\")\n",
    "plt.legend()\n",
    "plt.grid()\n",
    "plt.show()\n",
    "\n",
    "#Comando local para permitir a visualização do gráfico\n",
    "%matplot plt\n"
   ]
  },
  {
   "cell_type": "code",
   "execution_count": null,
   "id": "e1a12f43-a6f6-4199-92f6-3f2ebcfab2a1",
   "metadata": {},
   "outputs": [],
   "source": []
  }
 ],
 "metadata": {
  "kernelspec": {
   "display_name": "PySpark",
   "language": "",
   "name": "pysparkkernel"
  },
  "language_info": {
   "codemirror_mode": {
    "name": "python",
    "version": 3
   },
   "mimetype": "text/x-python",
   "name": "pyspark",
   "pygments_lexer": "python3"
  }
 },
 "nbformat": 4,
 "nbformat_minor": 5
}
