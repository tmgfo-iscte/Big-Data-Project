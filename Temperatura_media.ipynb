{
 "cells": [
  {
   "cell_type": "code",
   "execution_count": 1,
   "id": "52fc3824-c0a4-4965-b4d5-4f703307d169",
   "metadata": {
    "execution": {
     "iopub.execute_input": "2022-05-24T22:38:10.454148Z",
     "iopub.status.busy": "2022-05-24T22:38:10.453972Z",
     "iopub.status.idle": "2022-05-24T22:38:49.733104Z",
     "shell.execute_reply": "2022-05-24T22:38:49.732418Z",
     "shell.execute_reply.started": "2022-05-24T22:38:10.454127Z"
    },
    "tags": []
   },
   "outputs": [
    {
     "data": {
      "application/vnd.jupyter.widget-view+json": {
       "model_id": "3e8ecffbdca54ec4b75b0545caf35a24",
       "version_major": 2,
       "version_minor": 0
      },
      "text/plain": [
       "VBox()"
      ]
     },
     "metadata": {},
     "output_type": "display_data"
    },
    {
     "name": "stdout",
     "output_type": "stream",
     "text": [
      "Starting Spark application\n"
     ]
    },
    {
     "data": {
      "text/html": [
       "<table>\n",
       "<tr><th>ID</th><th>YARN Application ID</th><th>Kind</th><th>State</th><th>Spark UI</th><th>Driver log</th><th>Current session?</th></tr><tr><td>0</td><td>application_1653431601335_0001</td><td>pyspark</td><td>idle</td><td><a target=\"_blank\" href=\"http://ip-172-31-72-122.ec2.internal:20888/proxy/application_1653431601335_0001/\" class=\"emr-proxy-link\" emr-resource=\"j-1M9E3RJW8LJE6\n",
       "\" application-id=\"application_1653431601335_0001\">Link</a></td><td><a target=\"_blank\" href=\"http://ip-172-31-76-144.ec2.internal:8042/node/containerlogs/container_1653431601335_0001_01_000001/livy\" >Link</a></td><td>✔</td></tr></table>"
      ],
      "text/plain": [
       "<IPython.core.display.HTML object>"
      ]
     },
     "metadata": {},
     "output_type": "display_data"
    },
    {
     "data": {
      "application/vnd.jupyter.widget-view+json": {
       "model_id": "",
       "version_major": 2,
       "version_minor": 0
      },
      "text/plain": [
       "FloatProgress(value=0.0, bar_style='info', description='Progress:', layout=Layout(height='25px', width='50%'),…"
      ]
     },
     "metadata": {},
     "output_type": "display_data"
    },
    {
     "name": "stdout",
     "output_type": "stream",
     "text": [
      "SparkSession available as 'spark'.\n"
     ]
    },
    {
     "data": {
      "application/vnd.jupyter.widget-view+json": {
       "model_id": "",
       "version_major": 2,
       "version_minor": 0
      },
      "text/plain": [
       "FloatProgress(value=0.0, bar_style='info', description='Progress:', layout=Layout(height='25px', width='50%'),…"
      ]
     },
     "metadata": {},
     "output_type": "display_data"
    }
   ],
   "source": [
    "\n",
    "#alguns imports\n",
    "\n",
    "import sys\n",
    "import os\n",
    "\n",
    "from pyspark.sql import SparkSession\n",
    "from pyspark.sql.functions import *\n",
    "import pyspark.sql.functions as psf\n",
    "from pyspark.sql.types import *\n",
    "\n",
    "import numpy as np \n",
    "import pandas as pd  \n",
    "import matplotlib.pyplot as plt\n",
    "import seaborn as sns\n",
    "\n",
    "import warnings\n",
    "warnings.filterwarnings(\"ignore\")"
   ]
  },
  {
   "cell_type": "code",
   "execution_count": 2,
   "id": "f27f1173-09f4-4bd4-a358-dde8aa5800b4",
   "metadata": {
    "execution": {
     "iopub.execute_input": "2022-05-24T22:38:49.734248Z",
     "iopub.status.busy": "2022-05-24T22:38:49.734073Z",
     "iopub.status.idle": "2022-05-24T22:38:49.814628Z",
     "shell.execute_reply": "2022-05-24T22:38:49.813964Z",
     "shell.execute_reply.started": "2022-05-24T22:38:49.734227Z"
    }
   },
   "outputs": [
    {
     "data": {
      "application/vnd.jupyter.widget-view+json": {
       "model_id": "a711524d7662499595d52ca8faea8a35",
       "version_major": 2,
       "version_minor": 0
      },
      "text/plain": [
       "VBox()"
      ]
     },
     "metadata": {},
     "output_type": "display_data"
    },
    {
     "data": {
      "application/vnd.jupyter.widget-view+json": {
       "model_id": "",
       "version_major": 2,
       "version_minor": 0
      },
      "text/plain": [
       "FloatProgress(value=0.0, bar_style='info', description='Progress:', layout=Layout(height='25px', width='50%'),…"
      ]
     },
     "metadata": {},
     "output_type": "display_data"
    }
   ],
   "source": [
    "#criar uma instância SparkSession\n",
    "\n",
    "#spark = SparkSession\\\n",
    "    #.builder\\\n",
    "    #.appName(\"Dataset\")\\\n",
    "    #.config(\"spark.sql.shuffle.partitions\",6)\\\n",
    "    #.config(\"spark.sql.repl.eagerEval.enabled\", True)\\\n",
    "    #.getOrCreate()\n"
   ]
  },
  {
   "cell_type": "code",
   "execution_count": 3,
   "id": "8baf480c-78ff-45cc-9d1e-178e9d9629d8",
   "metadata": {
    "execution": {
     "iopub.execute_input": "2022-05-24T22:38:49.819230Z",
     "iopub.status.busy": "2022-05-24T22:38:49.816078Z",
     "iopub.status.idle": "2022-05-24T22:54:42.684089Z",
     "shell.execute_reply": "2022-05-24T22:54:42.683467Z",
     "shell.execute_reply.started": "2022-05-24T22:38:49.819194Z"
    },
    "tags": []
   },
   "outputs": [
    {
     "data": {
      "application/vnd.jupyter.widget-view+json": {
       "model_id": "7ddbdb78ef3d474fbc275bf0b4c6e938",
       "version_major": 2,
       "version_minor": 0
      },
      "text/plain": [
       "VBox()"
      ]
     },
     "metadata": {},
     "output_type": "display_data"
    },
    {
     "data": {
      "application/vnd.jupyter.widget-view+json": {
       "model_id": "",
       "version_major": 2,
       "version_minor": 0
      },
      "text/plain": [
       "FloatProgress(value=0.0, bar_style='info', description='Progress:', layout=Layout(height='25px', width='50%'),…"
      ]
     },
     "metadata": {},
     "output_type": "display_data"
    }
   ],
   "source": [
    "\n",
    "#Leitura de todos os ficheiros de observações do dataset\n",
    "df_raw = spark.read.csv(\"s3://bigdatanoaa/Dataset/\", header=\"false\", inferSchema=\"true\", sep=\",\")   \n",
    "\n",
    "#Renomeação das colunas\n",
    "df_raw = df_raw.toDF(\"ID\", \"DATE\", \"ELEMENT\", \"DATA VALUE\", \"MFLAG\", \"QFLAG\", \"SFLAG\", \"OBS_TIME\")  \n",
    "\n",
    "#Leitura dos dados relativos aos países\n",
    "df_countries = spark.read.csv(\"s3://bigdatanoaa/ghcnd-countries.csv\", header=\"false\", inferSchema=\"true\", sep=\";\")\n",
    "\n",
    "#Renomeação das colunas\n",
    "df_countries = df_countries.toDF(\"CODIGO\",\"PAIS\",\"CONTINENTE\")\n"
   ]
  },
  {
   "cell_type": "code",
   "execution_count": 4,
   "id": "9fd1f5ff-b619-4a82-b83d-064b6d605151",
   "metadata": {
    "execution": {
     "iopub.execute_input": "2022-05-24T22:54:42.685696Z",
     "iopub.status.busy": "2022-05-24T22:54:42.685429Z",
     "iopub.status.idle": "2022-05-24T22:54:42.964113Z",
     "shell.execute_reply": "2022-05-24T22:54:42.963434Z",
     "shell.execute_reply.started": "2022-05-24T22:54:42.685662Z"
    },
    "tags": []
   },
   "outputs": [
    {
     "data": {
      "application/vnd.jupyter.widget-view+json": {
       "model_id": "f8a7594651d4479d90587f7798598704",
       "version_major": 2,
       "version_minor": 0
      },
      "text/plain": [
       "VBox()"
      ]
     },
     "metadata": {},
     "output_type": "display_data"
    },
    {
     "data": {
      "application/vnd.jupyter.widget-view+json": {
       "model_id": "",
       "version_major": 2,
       "version_minor": 0
      },
      "text/plain": [
       "FloatProgress(value=0.0, bar_style='info', description='Progress:', layout=Layout(height='25px', width='50%'),…"
      ]
     },
     "metadata": {},
     "output_type": "display_data"
    }
   ],
   "source": [
    "\n",
    "#colunas irrelevantes\n",
    "cols_to_drop = ['MFLAG', 'QFLAG', 'SFLAG', 'OBS_TIME']\n",
    "\n",
    "#colunas de interesse\n",
    "cols_interest = [x for x in df_raw.columns if x not in cols_to_drop]\n",
    "\n",
    "#eliminação das colunas irrelevantes\n",
    "df_raw_interest = df_raw.select(cols_interest)\n"
   ]
  },
  {
   "cell_type": "code",
   "execution_count": 5,
   "id": "41f44032-e9f0-402c-b706-4550d54fdcc5",
   "metadata": {
    "execution": {
     "iopub.execute_input": "2022-05-24T22:54:42.965429Z",
     "iopub.status.busy": "2022-05-24T22:54:42.965169Z",
     "iopub.status.idle": "2022-05-24T22:54:43.236985Z",
     "shell.execute_reply": "2022-05-24T22:54:43.236285Z",
     "shell.execute_reply.started": "2022-05-24T22:54:42.965395Z"
    },
    "tags": []
   },
   "outputs": [
    {
     "data": {
      "application/vnd.jupyter.widget-view+json": {
       "model_id": "2421fb23a1ac4d28b10defdd2660fc8b",
       "version_major": 2,
       "version_minor": 0
      },
      "text/plain": [
       "VBox()"
      ]
     },
     "metadata": {},
     "output_type": "display_data"
    },
    {
     "data": {
      "application/vnd.jupyter.widget-view+json": {
       "model_id": "",
       "version_major": 2,
       "version_minor": 0
      },
      "text/plain": [
       "FloatProgress(value=0.0, bar_style='info', description='Progress:', layout=Layout(height='25px', width='50%'),…"
      ]
     },
     "metadata": {},
     "output_type": "display_data"
    }
   ],
   "source": [
    "\n",
    "#Passagem das datas para forma de data de modo a conseguirmos comparar as datas\n",
    "new_date = df_raw_interest.withColumn(\"DATE\",to_date(col(\"DATE\").cast(StringType()),\"yyyyMMdd\"))\n",
    "\n",
    "#Filtragem de modo a obter todas as observações registadas nos últimos 50 anos\n",
    "df_filter = new_date.filter(((year(col(\"DATE\")))>1970) & ((year(col(\"DATE\")))<2022))\n"
   ]
  },
  {
   "cell_type": "code",
   "execution_count": 6,
   "id": "668f21af-baf3-404c-a64a-f55b07410006",
   "metadata": {
    "execution": {
     "iopub.execute_input": "2022-05-24T22:54:43.238030Z",
     "iopub.status.busy": "2022-05-24T22:54:43.237858Z",
     "iopub.status.idle": "2022-05-24T22:54:43.500313Z",
     "shell.execute_reply": "2022-05-24T22:54:43.499716Z",
     "shell.execute_reply.started": "2022-05-24T22:54:43.238010Z"
    },
    "tags": []
   },
   "outputs": [
    {
     "data": {
      "application/vnd.jupyter.widget-view+json": {
       "model_id": "e269a7715eee4f9b8886b2c3a7b91520",
       "version_major": 2,
       "version_minor": 0
      },
      "text/plain": [
       "VBox()"
      ]
     },
     "metadata": {},
     "output_type": "display_data"
    },
    {
     "data": {
      "application/vnd.jupyter.widget-view+json": {
       "model_id": "",
       "version_major": 2,
       "version_minor": 0
      },
      "text/plain": [
       "FloatProgress(value=0.0, bar_style='info', description='Progress:', layout=Layout(height='25px', width='50%'),…"
      ]
     },
     "metadata": {},
     "output_type": "display_data"
    }
   ],
   "source": [
    "\n",
    "# Os valores correspondentes às temperaturas e preciciptação apresentam inicialmente um formato de tenth of degrees\n",
    "# É preciso dividir esses valores por 10 de modo a obter o valor em graus centígrados\n",
    "\n",
    "df_raw_interest = df_filter.withColumn(\"DATA VALUE\",\n",
    "    when((col(\"ELEMENT\") == \"TMAX\")|(col(\"ELEMENT\") == \"TMIN\")|(col(\"ELEMENT\") == \"TAVG\")|(col(\"ELEMENT\") == \"PRCP\"),\n",
    "    round((col(\"DATA VALUE\")/10),2)).otherwise(col(\"DATA VALUE\")))\n"
   ]
  },
  {
   "cell_type": "code",
   "execution_count": 7,
   "id": "7f5de4e1-b36a-4af1-ad3d-d3dfaa743aa4",
   "metadata": {
    "execution": {
     "iopub.execute_input": "2022-05-24T22:54:43.501461Z",
     "iopub.status.busy": "2022-05-24T22:54:43.501258Z",
     "iopub.status.idle": "2022-05-24T23:08:25.332777Z",
     "shell.execute_reply": "2022-05-24T23:08:25.332172Z",
     "shell.execute_reply.started": "2022-05-24T22:54:43.501439Z"
    },
    "tags": []
   },
   "outputs": [
    {
     "data": {
      "application/vnd.jupyter.widget-view+json": {
       "model_id": "a5283efa3d664ac58aa538edbc6a86d1",
       "version_major": 2,
       "version_minor": 0
      },
      "text/plain": [
       "VBox()"
      ]
     },
     "metadata": {},
     "output_type": "display_data"
    },
    {
     "data": {
      "application/vnd.jupyter.widget-view+json": {
       "model_id": "",
       "version_major": 2,
       "version_minor": 0
      },
      "text/plain": [
       "FloatProgress(value=0.0, bar_style='info', description='Progress:', layout=Layout(height='25px', width='50%'),…"
      ]
     },
     "metadata": {},
     "output_type": "display_data"
    },
    {
     "name": "stdout",
     "output_type": "stream",
     "text": [
      "+--------+-----------------+\n",
      "|    PAIS|  avg(DATA VALUE)|\n",
      "+--------+-----------------+\n",
      "|Portugal|17.06844705666268|\n",
      "+--------+-----------------+"
     ]
    }
   ],
   "source": [
    "\n",
    "#Adicionar o nome dos países de modo a associarmos o id da estação meteorológica ao seu respetivo país\n",
    "new_data = df_raw_interest.join(df_countries).where(df_raw_interest[\"ID\"].substr(1,2) == df_countries[\"CODIGO\"]).drop(df_raw[\"ID\"])\n",
    "\n",
    "#Filtramos apenas os valores correspondentes à temperatura média\n",
    "df_avg = new_data.filter(col(\"ELEMENT\") == \"TAVG\")\n",
    "\n",
    "#É feito o cálculo do valor da temperatura média em todos os países, sendo que filtramos apenas o de Portugal \n",
    "#O valor obtido mostra o valor da temperatura média registado nos últimos 50 anos em Portugal\n",
    "df_avg.groupBy(\"PAIS\").avg(\"DATA VALUE\").filter(col(\"PAIS\") == \"Portugal\").show()\n"
   ]
  },
  {
   "cell_type": "code",
   "execution_count": 8,
   "id": "5934c422-5588-482d-9af5-7ab0faee8fae",
   "metadata": {
    "execution": {
     "iopub.execute_input": "2022-05-24T23:08:25.334427Z",
     "iopub.status.busy": "2022-05-24T23:08:25.334243Z",
     "iopub.status.idle": "2022-05-24T23:08:25.609028Z",
     "shell.execute_reply": "2022-05-24T23:08:25.608284Z",
     "shell.execute_reply.started": "2022-05-24T23:08:25.334407Z"
    },
    "tags": []
   },
   "outputs": [
    {
     "data": {
      "application/vnd.jupyter.widget-view+json": {
       "model_id": "7cf8b0239c614b808cb8102893702a2e",
       "version_major": 2,
       "version_minor": 0
      },
      "text/plain": [
       "VBox()"
      ]
     },
     "metadata": {},
     "output_type": "display_data"
    },
    {
     "data": {
      "application/vnd.jupyter.widget-view+json": {
       "model_id": "",
       "version_major": 2,
       "version_minor": 0
      },
      "text/plain": [
       "FloatProgress(value=0.0, bar_style='info', description='Progress:', layout=Layout(height='25px', width='50%'),…"
      ]
     },
     "metadata": {},
     "output_type": "display_data"
    }
   ],
   "source": [
    "\n",
    "#Valor da temperatura média, em Portugal, para cada ano durante os últimos 50 anos\n",
    "df_avg_year = df_avg.groupBy(\"PAIS\",year(col(\"DATE\"))).avg(\"DATA VALUE\").filter(col(\"PAIS\") == \"Portugal\")\n",
    "\n",
    "#Renomeação de colunas\n",
    "df_avg_year = df_avg_year.toDF(\"PAIS\",\"ANO\",\"TEMPERATURA MEDIA\")\n"
   ]
  },
  {
   "cell_type": "code",
   "execution_count": 10,
   "id": "7f3ea920-9c4c-4141-a09c-51eeaea135e8",
   "metadata": {
    "execution": {
     "iopub.execute_input": "2022-05-24T23:10:06.079176Z",
     "iopub.status.busy": "2022-05-24T23:10:06.078944Z",
     "iopub.status.idle": "2022-05-24T23:24:49.939354Z",
     "shell.execute_reply": "2022-05-24T23:24:49.938702Z",
     "shell.execute_reply.started": "2022-05-24T23:10:06.079154Z"
    },
    "tags": []
   },
   "outputs": [
    {
     "data": {
      "application/vnd.jupyter.widget-view+json": {
       "model_id": "a108ad313b6b4e49a08799ce8fe7f456",
       "version_major": 2,
       "version_minor": 0
      },
      "text/plain": [
       "VBox()"
      ]
     },
     "metadata": {},
     "output_type": "display_data"
    },
    {
     "data": {
      "application/vnd.jupyter.widget-view+json": {
       "model_id": "",
       "version_major": 2,
       "version_minor": 0
      },
      "text/plain": [
       "FloatProgress(value=0.0, bar_style='info', description='Progress:', layout=Layout(height='25px', width='50%'),…"
      ]
     },
     "metadata": {},
     "output_type": "display_data"
    },
    {
     "data": {
      "image/png": "[encoded data removed]",
      "text/plain": [
       "<IPython.core.display.Image object>"
      ]
     },
     "metadata": {},
     "output_type": "display_data"
    }
   ],
   "source": [
    "\n",
    "#Ordenação por ordem crescente de ano\n",
    "df_plot = df_avg_year.orderBy(\"ANO\",ascending=True).toPandas()\n",
    "\n",
    "#Construção do gráfico da evolução da temperatura média em Portugal nos últimos 50 anos\n",
    "\n",
    "plt.plot(figsize=(28,8))\n",
    "sns.lineplot(data=df_plot, x='ANO', y='TEMPERATURA MEDIA', label='Portugal')\n",
    "plt.title(\"Evolucao da temperatura media em Portugal nos ultimos 50 anos\")\n",
    "plt.xlabel(\"Anos\")\n",
    "plt.ylabel(\"Tempeartura [°C]\")\n",
    "plt.legend()\n",
    "plt.grid()\n",
    "plt.show()\n",
    "\n",
    "%matplot plt\n"
   ]
  },
  {
   "cell_type": "code",
   "execution_count": null,
   "id": "86ca7f97-dedc-4fae-9996-4c5a1b64ce56",
   "metadata": {},
   "outputs": [],
   "source": []
  }
 ],
 "metadata": {
  "kernelspec": {
   "display_name": "PySpark",
   "language": "",
   "name": "pysparkkernel"
  },
  "language_info": {
   "codemirror_mode": {
    "name": "python",
    "version": 3
   },
   "mimetype": "text/x-python",
   "name": "pyspark",
   "pygments_lexer": "python3"
  },
  "toc-showcode": false
 },
 "nbformat": 4,
 "nbformat_minor": 5
}
