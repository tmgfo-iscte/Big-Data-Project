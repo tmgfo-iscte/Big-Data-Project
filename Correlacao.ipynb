{
 "cells": [
  {
   "cell_type": "code",
   "execution_count": 1,
   "id": "08cdd005-b725-41e1-a285-296f0737ba8b",
   "metadata": {
    "execution": {
     "iopub.execute_input": "2022-05-25T23:23:04.859983Z",
     "iopub.status.busy": "2022-05-25T23:23:04.859807Z",
     "iopub.status.idle": "2022-05-25T23:23:34.730572Z",
     "shell.execute_reply": "2022-05-25T23:23:34.729851Z",
     "shell.execute_reply.started": "2022-05-25T23:23:04.859961Z"
    },
    "tags": []
   },
   "outputs": [
    {
     "data": {
      "application/vnd.jupyter.widget-view+json": {
       "model_id": "b59b870b295a4bdc9e179c82656136c3",
       "version_major": 2,
       "version_minor": 0
      },
      "text/plain": [
       "VBox()"
      ]
     },
     "metadata": {},
     "output_type": "display_data"
    },
    {
     "name": "stdout",
     "output_type": "stream",
     "text": [
      "Starting Spark application\n"
     ]
    },
    {
     "data": {
      "text/html": [
       "<table>\n",
       "<tr><th>ID</th><th>YARN Application ID</th><th>Kind</th><th>State</th><th>Spark UI</th><th>Driver log</th><th>Current session?</th></tr><tr><td>7</td><td>application_1653516122854_0008</td><td>pyspark</td><td>idle</td><td><a target=\"_blank\" href=\"http://ip-172-31-76-111.ec2.internal:20888/proxy/application_1653516122854_0008/\" class=\"emr-proxy-link\" emr-resource=\"j-2YA7HEMHXMN2T\n",
       "\" application-id=\"application_1653516122854_0008\">Link</a></td><td><a target=\"_blank\" href=\"http://ip-172-31-65-235.ec2.internal:8042/node/containerlogs/container_1653516122854_0008_01_000001/livy\" >Link</a></td><td>✔</td></tr></table>"
      ],
      "text/plain": [
       "<IPython.core.display.HTML object>"
      ]
     },
     "metadata": {},
     "output_type": "display_data"
    },
    {
     "data": {
      "application/vnd.jupyter.widget-view+json": {
       "model_id": "",
       "version_major": 2,
       "version_minor": 0
      },
      "text/plain": [
       "FloatProgress(value=0.0, bar_style='info', description='Progress:', layout=Layout(height='25px', width='50%'),…"
      ]
     },
     "metadata": {},
     "output_type": "display_data"
    },
    {
     "name": "stdout",
     "output_type": "stream",
     "text": [
      "SparkSession available as 'spark'.\n"
     ]
    },
    {
     "data": {
      "application/vnd.jupyter.widget-view+json": {
       "model_id": "",
       "version_major": 2,
       "version_minor": 0
      },
      "text/plain": [
       "FloatProgress(value=0.0, bar_style='info', description='Progress:', layout=Layout(height='25px', width='50%'),…"
      ]
     },
     "metadata": {},
     "output_type": "display_data"
    }
   ],
   "source": [
    "\n",
    "#alguns imports\n",
    "\n",
    "import sys\n",
    "import os\n",
    "\n",
    "from pyspark.sql import SparkSession\n",
    "from pyspark.sql.functions import *\n",
    "import pyspark.sql.functions as psf\n",
    "from pyspark.sql.types import *\n",
    "\n",
    "from pyspark.ml import Pipeline\n",
    "from pyspark.ml.stat import Correlation\n",
    "from pyspark.ml.feature import Imputer, VectorAssembler\n",
    "from pyspark.ml.regression import LinearRegression\n",
    "from pyspark.ml.evaluation import RegressionEvaluator\n",
    "\n",
    "import numpy as np \n",
    "import pandas as pd  \n",
    "import matplotlib.pyplot as plt\n",
    "import seaborn as sns\n",
    "\n",
    "import warnings\n",
    "warnings.filterwarnings(\"ignore\")\n"
   ]
  },
  {
   "cell_type": "code",
   "execution_count": 2,
   "id": "3570d28d-4255-4caa-be1c-226d3ac76feb",
   "metadata": {
    "execution": {
     "iopub.execute_input": "2022-05-25T23:23:34.732027Z",
     "iopub.status.busy": "2022-05-25T23:23:34.731762Z",
     "iopub.status.idle": "2022-05-25T23:23:34.796768Z",
     "shell.execute_reply": "2022-05-25T23:23:34.796058Z",
     "shell.execute_reply.started": "2022-05-25T23:23:34.731994Z"
    }
   },
   "outputs": [
    {
     "data": {
      "application/vnd.jupyter.widget-view+json": {
       "model_id": "e277031a1fa04f199433e9806e51e32b",
       "version_major": 2,
       "version_minor": 0
      },
      "text/plain": [
       "VBox()"
      ]
     },
     "metadata": {},
     "output_type": "display_data"
    },
    {
     "data": {
      "application/vnd.jupyter.widget-view+json": {
       "model_id": "",
       "version_major": 2,
       "version_minor": 0
      },
      "text/plain": [
       "FloatProgress(value=0.0, bar_style='info', description='Progress:', layout=Layout(height='25px', width='50%'),…"
      ]
     },
     "metadata": {},
     "output_type": "display_data"
    }
   ],
   "source": [
    "\n",
    "#criar uma instância SparkSession\n",
    "\n",
    "#spark = SparkSession\\\n",
    "    #.builder\\\n",
    "    #.appName(\"Dataset\")\\\n",
    "    #.config(\"spark.sql.shuffle.partitions\",6)\\\n",
    "    #.config(\"spark.sql.repl.eagerEval.enabled\", True)\\\n",
    "    #.getOrCreate()\n"
   ]
  },
  {
   "cell_type": "code",
   "execution_count": 3,
   "id": "5585e99e-ba13-4232-a2ce-e818c00f5812",
   "metadata": {
    "execution": {
     "iopub.execute_input": "2022-05-25T23:23:34.798773Z",
     "iopub.status.busy": "2022-05-25T23:23:34.798411Z",
     "iopub.status.idle": "2022-05-25T23:23:58.192947Z",
     "shell.execute_reply": "2022-05-25T23:23:58.192324Z",
     "shell.execute_reply.started": "2022-05-25T23:23:34.798739Z"
    },
    "tags": []
   },
   "outputs": [
    {
     "data": {
      "application/vnd.jupyter.widget-view+json": {
       "model_id": "8ce84c415f2e4075b28187b9b2a683b9",
       "version_major": 2,
       "version_minor": 0
      },
      "text/plain": [
       "VBox()"
      ]
     },
     "metadata": {},
     "output_type": "display_data"
    },
    {
     "data": {
      "application/vnd.jupyter.widget-view+json": {
       "model_id": "",
       "version_major": 2,
       "version_minor": 0
      },
      "text/plain": [
       "FloatProgress(value=0.0, bar_style='info', description='Progress:', layout=Layout(height='25px', width='50%'),…"
      ]
     },
     "metadata": {},
     "output_type": "display_data"
    }
   ],
   "source": [
    "\n",
    "#leitura do dataset relativo ao ano 1959\n",
    "df_raw = spark.read.csv(\"s3://bigdatanoaa/Dataset/1959.csv\", header=\"false\", inferSchema=\"true\", sep=\",\")  \n",
    "  \n",
    "#renomear as colunas\n",
    "df_raw = df_raw.toDF(\"ID\", \"DATE\", \"ELEMENT\", \"DATA VALUE\", \"MFLAG\", \"QFLAG\", \"SFLAG\", \"OBS_TIME\") \n"
   ]
  },
  {
   "cell_type": "code",
   "execution_count": 4,
   "id": "24c5601a-4291-4b91-b122-d718014466c3",
   "metadata": {
    "execution": {
     "iopub.execute_input": "2022-05-25T23:23:58.194534Z",
     "iopub.status.busy": "2022-05-25T23:23:58.194280Z",
     "iopub.status.idle": "2022-05-25T23:23:58.465062Z",
     "shell.execute_reply": "2022-05-25T23:23:58.464397Z",
     "shell.execute_reply.started": "2022-05-25T23:23:58.194499Z"
    },
    "tags": []
   },
   "outputs": [
    {
     "data": {
      "application/vnd.jupyter.widget-view+json": {
       "model_id": "87784bf4f1c94e42b9e0486687ed33a2",
       "version_major": 2,
       "version_minor": 0
      },
      "text/plain": [
       "VBox()"
      ]
     },
     "metadata": {},
     "output_type": "display_data"
    },
    {
     "data": {
      "application/vnd.jupyter.widget-view+json": {
       "model_id": "",
       "version_major": 2,
       "version_minor": 0
      },
      "text/plain": [
       "FloatProgress(value=0.0, bar_style='info', description='Progress:', layout=Layout(height='25px', width='50%'),…"
      ]
     },
     "metadata": {},
     "output_type": "display_data"
    }
   ],
   "source": [
    "\n",
    "#colunas irrelevantes\n",
    "cols_to_drop = ['MFLAG', 'QFLAG', 'SFLAG', 'OBS_TIME']\n",
    "\n",
    "#colunas de interesse\n",
    "cols_interest = [x for x in df_raw.columns if x not in cols_to_drop]\n",
    "\n",
    "#eliminação das colunas irrelevantes\n",
    "df_raw_interest = df_raw.select(cols_interest)\n"
   ]
  },
  {
   "cell_type": "code",
   "execution_count": 5,
   "id": "02d38b5a-3092-4b3e-b737-2e2f05fea92b",
   "metadata": {
    "execution": {
     "iopub.execute_input": "2022-05-25T23:23:58.466157Z",
     "iopub.status.busy": "2022-05-25T23:23:58.465972Z",
     "iopub.status.idle": "2022-05-25T23:23:58.729116Z",
     "shell.execute_reply": "2022-05-25T23:23:58.728474Z",
     "shell.execute_reply.started": "2022-05-25T23:23:58.466135Z"
    }
   },
   "outputs": [
    {
     "data": {
      "application/vnd.jupyter.widget-view+json": {
       "model_id": "28296dc6b125498897a033fea1e34255",
       "version_major": 2,
       "version_minor": 0
      },
      "text/plain": [
       "VBox()"
      ]
     },
     "metadata": {},
     "output_type": "display_data"
    },
    {
     "data": {
      "application/vnd.jupyter.widget-view+json": {
       "model_id": "",
       "version_major": 2,
       "version_minor": 0
      },
      "text/plain": [
       "FloatProgress(value=0.0, bar_style='info', description='Progress:', layout=Layout(height='25px', width='50%'),…"
      ]
     },
     "metadata": {},
     "output_type": "display_data"
    }
   ],
   "source": [
    "\n",
    "# Os valores correspondentes às temperaturas e preciciptação apresentam inicialmente um formato de tenth of degrees\n",
    "# É preciso dividir esses valores por 10 de modo a obter o valor em graus centígrados\n",
    "\n",
    "df_raw_interest = df_raw_interest.withColumn(\"DATA VALUE\",\n",
    "    when((col(\"ELEMENT\") == \"TMIN\")|(col(\"ELEMENT\") == \"PRCP\"),\n",
    "    round((col(\"DATA VALUE\")/10),2)).otherwise(col(\"DATA VALUE\")))\n"
   ]
  },
  {
   "cell_type": "code",
   "execution_count": 6,
   "id": "8950bcb6-6f62-44ff-b9d1-85564ce0f257",
   "metadata": {
    "execution": {
     "iopub.execute_input": "2022-05-25T23:23:58.730171Z",
     "iopub.status.busy": "2022-05-25T23:23:58.730001Z",
     "iopub.status.idle": "2022-05-25T23:23:58.995712Z",
     "shell.execute_reply": "2022-05-25T23:23:58.994988Z",
     "shell.execute_reply.started": "2022-05-25T23:23:58.730150Z"
    },
    "tags": []
   },
   "outputs": [
    {
     "data": {
      "application/vnd.jupyter.widget-view+json": {
       "model_id": "48c3b7082a4e4c3288b8a8933c5bdde6",
       "version_major": 2,
       "version_minor": 0
      },
      "text/plain": [
       "VBox()"
      ]
     },
     "metadata": {},
     "output_type": "display_data"
    },
    {
     "data": {
      "application/vnd.jupyter.widget-view+json": {
       "model_id": "",
       "version_major": 2,
       "version_minor": 0
      },
      "text/plain": [
       "FloatProgress(value=0.0, bar_style='info', description='Progress:', layout=Layout(height='25px', width='50%'),…"
      ]
     },
     "metadata": {},
     "output_type": "display_data"
    }
   ],
   "source": [
    "\n",
    "#Passagem das datas para forma de data de modo a conseguirmos comparar as datas\n",
    "df_raw_interest = df_raw_interest.withColumn(\"DATE\",to_date(col(\"DATE\").cast(StringType()),\"yyyyMMdd\"))\n",
    "                                             \n",
    "#Filtragem de modo a obter apenas os valores da temperatura mínima, removendo outliers\n",
    "df_tmin = df_raw_interest.filter((col(\"ELEMENT\") == \"TMIN\") & (col(\"DATA VALUE\") < 40))\n",
    "\n",
    "#Renomeação das colunas\n",
    "df_tmin = df_tmin.toDF(\"CODIGO\",\"DATA\",\"ELEMENTO\",\"VALOR\")\n",
    "\n",
    "#Filtragem de modo a obter apenas os valores da precipitação, removendo outliers\n",
    "df_prcp = df_raw_interest.filter((col(\"ELEMENT\") == \"PRCP\") & (col(\"DATA VALUE\") >= 0))\n",
    "\n",
    "#União dos dados da temperatura mínima com os dados da precipitação, quando os dias e as estações metereológicas são iguais\n",
    "join_data = (df_tmin.join(df_prcp).where((col(\"DATA\") == df_prcp[\"DATE\"]) & (col(\"CODIGO\") == df_prcp[\"ID\"]) )\n",
    "                                         .drop(\"DATE\"))\n",
    "\n",
    "#Filtragem de modo a obter os dados relativos a Portugal\n",
    "df_plot = join_data.filter(col(\"CODIGO\").substr(1,2)  == \"PO\")\n"
   ]
  },
  {
   "cell_type": "code",
   "execution_count": 7,
   "id": "2679687c-290e-428f-a0dc-3fac43b44f2c",
   "metadata": {
    "execution": {
     "iopub.execute_input": "2022-05-25T23:23:58.996735Z",
     "iopub.status.busy": "2022-05-25T23:23:58.996565Z",
     "iopub.status.idle": "2022-05-25T23:24:20.353315Z",
     "shell.execute_reply": "2022-05-25T23:24:20.352722Z",
     "shell.execute_reply.started": "2022-05-25T23:23:58.996713Z"
    },
    "tags": []
   },
   "outputs": [
    {
     "data": {
      "application/vnd.jupyter.widget-view+json": {
       "model_id": "58acc074843246c8a3b48a768ba64207",
       "version_major": 2,
       "version_minor": 0
      },
      "text/plain": [
       "VBox()"
      ]
     },
     "metadata": {},
     "output_type": "display_data"
    },
    {
     "data": {
      "application/vnd.jupyter.widget-view+json": {
       "model_id": "",
       "version_major": 2,
       "version_minor": 0
      },
      "text/plain": [
       "FloatProgress(value=0.0, bar_style='info', description='Progress:', layout=Layout(height='25px', width='50%'),…"
      ]
     },
     "metadata": {},
     "output_type": "display_data"
    },
    {
     "data": {
      "image/png": "[encoded data removed]",
      "text/plain": [
       "<IPython.core.display.Image object>"
      ]
     },
     "metadata": {},
     "output_type": "display_data"
    }
   ],
   "source": [
    "\n",
    "#São feitos os imports novamente de modo a permitir a visualização do gráfico\n",
    "import matplotlib.pyplot as plt\n",
    "import matplotlib\n",
    "import seaborn as sns\n",
    "\n",
    "#Preparação dos dados para  gráfico\n",
    "df_plot = df_plot.toPandas()\n",
    "\n",
    "#Construção do gráfico de correlação entre a temperatura mínima e precipitação em Portugal no ano de 1959\n",
    "plt.scatter(df_plot[\"VALOR\"], df_plot[\"DATA VALUE\"])\n",
    "plt.xlabel('TMIN [C]')\n",
    "plt.ylabel('PRECIPITACAO [mm]')\n",
    "plt.title('Correlacao entre a temperatura minima e precipitacao no ano 1959 em Portugal',fontsize=10)\n",
    "plt.show()\n",
    "\n",
    "#Comando local para permitir a visualização do gráfico\n",
    "%matplot plt\n"
   ]
  },
  {
   "cell_type": "code",
   "execution_count": null,
   "id": "5ae8a9ab-b019-497b-a16e-d7b4619bf366",
   "metadata": {},
   "outputs": [],
   "source": []
  }
 ],
 "metadata": {
  "kernelspec": {
   "display_name": "PySpark",
   "language": "",
   "name": "pysparkkernel"
  },
  "language_info": {
   "codemirror_mode": {
    "name": "python",
    "version": 3
   },
   "mimetype": "text/x-python",
   "name": "pyspark",
   "pygments_lexer": "python3"
  }
 },
 "nbformat": 4,
 "nbformat_minor": 5
}
