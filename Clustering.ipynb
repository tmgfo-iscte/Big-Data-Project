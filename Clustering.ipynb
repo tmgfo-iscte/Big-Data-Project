{
 "cells": [
  {
   "cell_type": "code",
   "execution_count": 1,
   "id": "5c98ce7f-6968-4639-9577-f42e82c23269",
   "metadata": {
    "execution": {
     "iopub.execute_input": "2022-05-27T22:49:51.593631Z",
     "iopub.status.busy": "2022-05-27T22:49:51.593337Z",
     "iopub.status.idle": "2022-05-27T22:50:24.728302Z",
     "shell.execute_reply": "2022-05-27T22:50:24.727545Z",
     "shell.execute_reply.started": "2022-05-27T22:49:51.593596Z"
    }
   },
   "outputs": [
    {
     "data": {
      "application/vnd.jupyter.widget-view+json": {
       "model_id": "0e52c1f1dbba42ca8db0460739536672",
       "version_major": 2,
       "version_minor": 0
      },
      "text/plain": [
       "VBox()"
      ]
     },
     "metadata": {},
     "output_type": "display_data"
    },
    {
     "name": "stdout",
     "output_type": "stream",
     "text": [
      "Starting Spark application\n"
     ]
    },
    {
     "data": {
      "text/html": [
       "<table>\n",
       "<tr><th>ID</th><th>YARN Application ID</th><th>Kind</th><th>State</th><th>Spark UI</th><th>Driver log</th><th>Current session?</th></tr><tr><td>1</td><td>application_1653691443703_0002</td><td>pyspark</td><td>idle</td><td><a target=\"_blank\" href=\"http://ip-172-31-76-202.ec2.internal:20888/proxy/application_1653691443703_0002/\" class=\"emr-proxy-link\" emr-resource=\"j-21PPFZCGAP6M\n",
       "\" application-id=\"application_1653691443703_0002\">Link</a></td><td><a target=\"_blank\" href=\"http://ip-172-31-73-35.ec2.internal:8042/node/containerlogs/container_1653691443703_0002_01_000001/livy\" >Link</a></td><td>✔</td></tr></table>"
      ],
      "text/plain": [
       "<IPython.core.display.HTML object>"
      ]
     },
     "metadata": {},
     "output_type": "display_data"
    },
    {
     "data": {
      "application/vnd.jupyter.widget-view+json": {
       "model_id": "",
       "version_major": 2,
       "version_minor": 0
      },
      "text/plain": [
       "FloatProgress(value=0.0, bar_style='info', description='Progress:', layout=Layout(height='25px', width='50%'),…"
      ]
     },
     "metadata": {},
     "output_type": "display_data"
    },
    {
     "name": "stdout",
     "output_type": "stream",
     "text": [
      "SparkSession available as 'spark'.\n"
     ]
    },
    {
     "data": {
      "application/vnd.jupyter.widget-view+json": {
       "model_id": "",
       "version_major": 2,
       "version_minor": 0
      },
      "text/plain": [
       "FloatProgress(value=0.0, bar_style='info', description='Progress:', layout=Layout(height='25px', width='50%'),…"
      ]
     },
     "metadata": {},
     "output_type": "display_data"
    }
   ],
   "source": [
    "\n",
    "#alguns imports\n",
    "\n",
    "import sys\n",
    "import os\n",
    "\n",
    "from pyspark.sql import SparkSession\n",
    "from pyspark.sql.functions import *\n",
    "import pyspark.sql.functions as psf\n",
    "from pyspark.sql.types import *\n",
    "\n",
    "from pyspark.ml import Pipeline\n",
    "from pyspark.ml.stat import Correlation\n",
    "from pyspark.ml.feature import Imputer, VectorAssembler\n",
    "from pyspark.ml.regression import LinearRegression\n",
    "from pyspark.ml.evaluation import RegressionEvaluator\n",
    "\n",
    "from pyspark.ml.evaluation import ClusteringEvaluator\n",
    "from pyspark.ml.clustering import KMeans\n",
    "\n",
    "import numpy as np\n",
    "import pandas as pd\n",
    "import matplotlib.pyplot as plt\n",
    "import seaborn as sns\n",
    "\n",
    "from geopy.geocoders import Nominatim\n",
    "import folium\n",
    "from folium.plugins import MarkerCluster\n",
    "\n",
    "from IPython.display import display\n",
    "\n",
    "import warnings\n",
    "\n",
    "warnings.filterwarnings(\"ignore\")\n"
   ]
  },
  {
   "cell_type": "code",
   "execution_count": 2,
   "id": "f6077fef-0e19-4f4b-97fb-1d2b81387433",
   "metadata": {
    "execution": {
     "iopub.execute_input": "2022-05-27T22:50:24.729578Z",
     "iopub.status.busy": "2022-05-27T22:50:24.729387Z",
     "iopub.status.idle": "2022-05-27T22:50:26.042218Z",
     "shell.execute_reply": "2022-05-27T22:50:26.041491Z",
     "shell.execute_reply.started": "2022-05-27T22:50:24.729540Z"
    }
   },
   "outputs": [
    {
     "data": {
      "application/vnd.jupyter.widget-view+json": {
       "model_id": "36bb0d1198514f5ca9974c3c9d317941",
       "version_major": 2,
       "version_minor": 0
      },
      "text/plain": [
       "VBox()"
      ]
     },
     "metadata": {},
     "output_type": "display_data"
    },
    {
     "data": {
      "application/vnd.jupyter.widget-view+json": {
       "model_id": "",
       "version_major": 2,
       "version_minor": 0
      },
      "text/plain": [
       "FloatProgress(value=0.0, bar_style='info', description='Progress:', layout=Layout(height='25px', width='50%'),…"
      ]
     },
     "metadata": {},
     "output_type": "display_data"
    }
   ],
   "source": [
    "#criar uma instância SparkSession\n",
    "\n",
    "spark = SparkSession\\\n",
    "    .builder\\\n",
    "    .appName(\"Dataset\")\\\n",
    "    .config(\"spark.sql.shuffle.partitions\",6)\\\n",
    "    .config(\"spark.sql.repl.eagerEval.enabled\", True)\\\n",
    "    .getOrCreate()\n"
   ]
  },
  {
   "cell_type": "code",
   "execution_count": 3,
   "id": "85356f3a-99fb-4e3a-bb19-6f4418f763c8",
   "metadata": {
    "execution": {
     "iopub.execute_input": "2022-05-27T22:50:26.051536Z",
     "iopub.status.busy": "2022-05-27T22:50:26.047064Z",
     "iopub.status.idle": "2022-05-27T22:50:53.485667Z",
     "shell.execute_reply": "2022-05-27T22:50:53.484929Z",
     "shell.execute_reply.started": "2022-05-27T22:50:26.051507Z"
    },
    "tags": []
   },
   "outputs": [
    {
     "data": {
      "application/vnd.jupyter.widget-view+json": {
       "model_id": "42c0edbe11404037b61c45d3e65291fa",
       "version_major": 2,
       "version_minor": 0
      },
      "text/plain": [
       "VBox()"
      ]
     },
     "metadata": {},
     "output_type": "display_data"
    },
    {
     "data": {
      "application/vnd.jupyter.widget-view+json": {
       "model_id": "",
       "version_major": 2,
       "version_minor": 0
      },
      "text/plain": [
       "FloatProgress(value=0.0, bar_style='info', description='Progress:', layout=Layout(height='25px', width='50%'),…"
      ]
     },
     "metadata": {},
     "output_type": "display_data"
    }
   ],
   "source": [
    "#Leitura do ficheiro que contém os dados relativos ao ano 2021\n",
    "df_raw = spark.read.csv(\"s3://bigdatanoaa/Dataset/2015.csv\",header=\"false\",inferSchema=\"true\",sep=\",\")\n",
    "\n",
    "#Renomeação das colunas\n",
    "df_raw = df_raw.toDF(\"ID\", \"DATE\", \"ELEMENT\", \"DATA VALUE\", \"MFLAG\", \"QFLAG\",\"SFLAG\", \"OBS_TIME\")\n",
    "\n",
    "#Leitura dos dados relativos aos países\n",
    "df_countries = spark.read.csv(\"s3://bigdatanoaa/ghcnd-countries.csv\",header=\"false\",inferSchema=\"true\",sep=\";\")\n",
    "\n",
    "#Renomeação das colunas\n",
    "df_countries = df_countries.toDF(\"CODIGO\", \"PAIS\", \"CONTINENTE\")\n",
    "\n",
    "#Leitura dos dados relativos às estações\n",
    "df_stations = spark.read.csv(\"s3://bigdatanoaa/ghcnd-stations.csv\", header=\"false\",inferSchema=\"true\", sep=\";\")\n",
    "\n",
    "#Renomeação das colunas\n",
    "df_stations = df_stations.toDF(\"ID_STATION\", \"LATITUDE\", \"LONGITUDE\",\"ELEVAÇÃO\", \"ESTADO\", \"NOME\", \"GSM_FLAG\", \"HCN-CRM_FLAG\", \"WMO ID\")\n"
   ]
  },
  {
   "cell_type": "code",
   "execution_count": 4,
   "id": "8b647915-e853-46ce-bb75-f5139ede9998",
   "metadata": {
    "execution": {
     "iopub.execute_input": "2022-05-27T22:50:53.487040Z",
     "iopub.status.busy": "2022-05-27T22:50:53.486857Z",
     "iopub.status.idle": "2022-05-27T22:50:53.771442Z",
     "shell.execute_reply": "2022-05-27T22:50:53.770683Z",
     "shell.execute_reply.started": "2022-05-27T22:50:53.487019Z"
    },
    "tags": []
   },
   "outputs": [
    {
     "data": {
      "application/vnd.jupyter.widget-view+json": {
       "model_id": "4db10dac48a94ebea61e68c7e534d64c",
       "version_major": 2,
       "version_minor": 0
      },
      "text/plain": [
       "VBox()"
      ]
     },
     "metadata": {},
     "output_type": "display_data"
    },
    {
     "data": {
      "application/vnd.jupyter.widget-view+json": {
       "model_id": "",
       "version_major": 2,
       "version_minor": 0
      },
      "text/plain": [
       "FloatProgress(value=0.0, bar_style='info', description='Progress:', layout=Layout(height='25px', width='50%'),…"
      ]
     },
     "metadata": {},
     "output_type": "display_data"
    }
   ],
   "source": [
    "\n",
    "#colunas irrelevantes\n",
    "cols_to_drop = ['MFLAG', 'QFLAG', 'SFLAG', 'OBS_TIME']\n",
    "cols_to_drop2 = ['ELEVAÇÃO', 'ESTADO', 'GSM_FLAG', 'HCN-CRM_FLAG', 'WMO ID']\n",
    "\n",
    "#colunas de interesse\n",
    "cols_interest = [x for x in df_raw.columns if x not in cols_to_drop]\n",
    "cols_interest2 = [x for x in df_stations.columns if x not in cols_to_drop2]\n",
    "\n",
    "#eliminação das colunas irrelevantes\n",
    "df_raw_interest = df_raw.select(cols_interest)\n",
    "df_stations_interest = df_stations.select(cols_interest2)\n"
   ]
  },
  {
   "cell_type": "code",
   "execution_count": 5,
   "id": "3b866784-fa9d-41be-b295-023e9ea19bb9",
   "metadata": {
    "execution": {
     "iopub.execute_input": "2022-05-27T22:50:53.772639Z",
     "iopub.status.busy": "2022-05-27T22:50:53.772439Z",
     "iopub.status.idle": "2022-05-27T22:50:54.056757Z",
     "shell.execute_reply": "2022-05-27T22:50:54.056053Z",
     "shell.execute_reply.started": "2022-05-27T22:50:53.772616Z"
    },
    "tags": []
   },
   "outputs": [
    {
     "data": {
      "application/vnd.jupyter.widget-view+json": {
       "model_id": "1382a41458c24444ac3f730f0db5ee66",
       "version_major": 2,
       "version_minor": 0
      },
      "text/plain": [
       "VBox()"
      ]
     },
     "metadata": {},
     "output_type": "display_data"
    },
    {
     "data": {
      "application/vnd.jupyter.widget-view+json": {
       "model_id": "",
       "version_major": 2,
       "version_minor": 0
      },
      "text/plain": [
       "FloatProgress(value=0.0, bar_style='info', description='Progress:', layout=Layout(height='25px', width='50%'),…"
      ]
     },
     "metadata": {},
     "output_type": "display_data"
    }
   ],
   "source": [
    "\n",
    "# Os valores correspondentes às temperaturas e preciciptação apresentam inicialmente um formato de tenth of degrees\n",
    "# É preciso dividir esses valores por 10 de modo a obter o valor em graus centígrados\n",
    "\n",
    "df_raw_interest = df_raw_interest.withColumn(\"DATA VALUE\",\n",
    "    when((col(\"ELEMENT\") == \"TMAX\") | (col(\"ELEMENT\") == \"TMIN\") |\n",
    "         (col(\"ELEMENT\") == \"TAVG\") | (col(\"ELEMENT\") == \"PRCP\"),\n",
    "         round((col(\"DATA VALUE\") / 10), 2)).otherwise(col(\"DATA VALUE\")))\n"
   ]
  },
  {
   "cell_type": "code",
   "execution_count": 6,
   "id": "7fe0d946-0aa1-419f-a6dc-ca954468e1fb",
   "metadata": {
    "execution": {
     "iopub.execute_input": "2022-05-27T22:50:54.058270Z",
     "iopub.status.busy": "2022-05-27T22:50:54.058006Z",
     "iopub.status.idle": "2022-05-27T22:50:54.342313Z",
     "shell.execute_reply": "2022-05-27T22:50:54.341594Z",
     "shell.execute_reply.started": "2022-05-27T22:50:54.058236Z"
    },
    "tags": []
   },
   "outputs": [
    {
     "data": {
      "application/vnd.jupyter.widget-view+json": {
       "model_id": "f18b2a0be3864ada9bd60bf3d3983d93",
       "version_major": 2,
       "version_minor": 0
      },
      "text/plain": [
       "VBox()"
      ]
     },
     "metadata": {},
     "output_type": "display_data"
    },
    {
     "data": {
      "application/vnd.jupyter.widget-view+json": {
       "model_id": "",
       "version_major": 2,
       "version_minor": 0
      },
      "text/plain": [
       "FloatProgress(value=0.0, bar_style='info', description='Progress:', layout=Layout(height='25px', width='50%'),…"
      ]
     },
     "metadata": {},
     "output_type": "display_data"
    }
   ],
   "source": [
    "\n",
    "#Adicionar o nome dos países de modo a associarmos o id da estação meteorológica ao seu respetivo país\n",
    "new_data = (df_raw_interest.join(df_stations_interest).where(\n",
    "    df_raw_interest[\"ID\"] == df_stations[\"ID_STATION\"]).drop(\"ID_STATION\"))\n",
    "\n",
    "#Adicionar o nome dos países de modo a associarmos o id da estação meteorológica ao seu respetivo país\n",
    "all_data = new_data.join(df_countries).where(\n",
    "    col(\"ID\").substr(1, 2) == df_countries[\"CODIGO\"]).drop(\"CODIGO\")\n",
    "\n",
    "#Passagem das datas para forma de data de modo a conseguirmos comparar as datas\n",
    "all_data = all_data.withColumn(\"DATE\", to_date(col(\"DATE\").cast(StringType()), \"yyyyMMdd\"))\n"
   ]
  },
  {
   "cell_type": "code",
   "execution_count": 7,
   "id": "d252e0a9-2b44-49c4-a57b-e9ba1a4c7ea6",
   "metadata": {
    "execution": {
     "iopub.execute_input": "2022-05-27T22:50:54.343351Z",
     "iopub.status.busy": "2022-05-27T22:50:54.343158Z",
     "iopub.status.idle": "2022-05-27T22:51:13.913654Z",
     "shell.execute_reply": "2022-05-27T22:51:13.912894Z",
     "shell.execute_reply.started": "2022-05-27T22:50:54.343329Z"
    },
    "tags": []
   },
   "outputs": [
    {
     "data": {
      "application/vnd.jupyter.widget-view+json": {
       "model_id": "b9e98dcc788647958fc6ffe94fd6515b",
       "version_major": 2,
       "version_minor": 0
      },
      "text/plain": [
       "VBox()"
      ]
     },
     "metadata": {},
     "output_type": "display_data"
    },
    {
     "data": {
      "application/vnd.jupyter.widget-view+json": {
       "model_id": "",
       "version_major": 2,
       "version_minor": 0
      },
      "text/plain": [
       "FloatProgress(value=0.0, bar_style='info', description='Progress:', layout=Layout(height='25px', width='50%'),…"
      ]
     },
     "metadata": {},
     "output_type": "display_data"
    }
   ],
   "source": [
    "\n",
    "#Filtragem de modo a obter os dados relativos à temperatura média\n",
    "df_avg = all_data.filter(col(\"ELEMENT\") == \"TAVG\")\n",
    "\n",
    "#Renomeação do nome da coluna para não existir qualquer tipo de conflito\n",
    "df_avg = df_avg.withColumnRenamed(\"DATA VALUE\", \"TAVG\").drop(\"ELEMENT\")\n",
    "\n",
    "#Agrupação de dados conforme o nome da estação, o país onde se encontra e o mês de observação\n",
    "#É feita a média das temperaturas médias e ordenado comforme o mês\n",
    "mean_data = (df_avg.groupBy(['NOME', 'PAIS', month(col(\"DATE\"))]).avg(\"TAVG\").orderBy(month(col(\"DATE\"))))\n",
    "\n",
    "#Passagem da variável mês para o tipo de String\n",
    "mean_data = mean_data.withColumn(\"month(DATE)\",col(\"month(DATE)\").cast(StringType()))\n",
    "\n",
    "#Criação de 12 novas colunas, sendo que cada uma vai conter o valor médio de temperatura do mês respetivo\n",
    "mean_data = mean_data.groupBy(\"NOME\").pivot(\"month(DATE)\").avg(\"avg(TAVG)\")\n"
   ]
  },
  {
   "cell_type": "code",
   "execution_count": 8,
   "id": "a8acbdcf-04bf-4f56-b226-4217a5a1b507",
   "metadata": {
    "execution": {
     "iopub.execute_input": "2022-05-27T22:51:13.915454Z",
     "iopub.status.busy": "2022-05-27T22:51:13.915254Z",
     "iopub.status.idle": "2022-05-27T22:51:14.203665Z",
     "shell.execute_reply": "2022-05-27T22:51:14.202856Z",
     "shell.execute_reply.started": "2022-05-27T22:51:13.915404Z"
    },
    "tags": []
   },
   "outputs": [
    {
     "data": {
      "application/vnd.jupyter.widget-view+json": {
       "model_id": "4d41d5307941412fa2119c39ae3266f7",
       "version_major": 2,
       "version_minor": 0
      },
      "text/plain": [
       "VBox()"
      ]
     },
     "metadata": {},
     "output_type": "display_data"
    },
    {
     "data": {
      "application/vnd.jupyter.widget-view+json": {
       "model_id": "",
       "version_major": 2,
       "version_minor": 0
      },
      "text/plain": [
       "FloatProgress(value=0.0, bar_style='info', description='Progress:', layout=Layout(height='25px', width='50%'),…"
      ]
     },
     "metadata": {},
     "output_type": "display_data"
    }
   ],
   "source": [
    "\n",
    "#Criada uma variável que contenha o nome das estações, os seus países, a sua latitude e longitude\n",
    "cities_data = df_avg[['NOME', 'PAIS', 'LATITUDE', 'LONGITUDE']]\n",
    "#Renomear as colunas\n",
    "cities_data = cities_data.toDF(\"NAME\", \"COUNTRY\", \"LATITUDE\", \"LONGITUDE\")\n",
    "\n",
    "#É feita a agrupação de dados, de modo a obtermos a latitude e longitude para as estações pretendidas\n",
    "join_data = mean_data.join(cities_data).where(\n",
    "    col(\"NOME\") == cities_data[\"NAME\"]).drop(\"NAME\")\n",
    "\n",
    "#Eliminação de estações que se possam encontrar duplicadas\n",
    "unique_data = join_data.select(\"*\").dropDuplicates([\"NOME\"])\n",
    "\n",
    "#Renomear as colunas de modo a conseguirmos realizar uma ordenação das mesmas\n",
    "unique_data = unique_data.toDF(\"NOME\", \"01\", \"10\", \"11\", \"12\", \"02\", \"03\", \"04\", \"05\", \"06\", \"07\", \"08\", \"09\", \"PAÍS\", \"LATITUDE\",\"LONGITUDE\")\n",
    "#Ordenação das colunas\n",
    "unique_data = unique_data.select(sorted(unique_data.columns))\n",
    "#Renomear novamente as colunas para o formato pretendido\n",
    "unique_data = unique_data.toDF(\"1\", \"2\", \"3\", \"4\", \"5\", \"6\", \"7\", \"8\", \"9\",\"10\", \"11\", \"12\", \"LATITUDE\", \"LONGITUDE\",\"NOME\", \"PAIS\")\n",
    "\n",
    "#Filtragem de forma a obtermos os dados relativos às estações que se localizam no hemisfério norte,\n",
    "#ou seja, quando o valor da latitude é maior que 0\n",
    "north_stations = unique_data.filter(col(\"LATITUDE\") > 0)\n"
   ]
  },
  {
   "cell_type": "code",
   "execution_count": 9,
   "id": "25e21f61-f192-4d94-b65f-f40c4981d490",
   "metadata": {
    "execution": {
     "iopub.execute_input": "2022-05-27T22:51:14.205021Z",
     "iopub.status.busy": "2022-05-27T22:51:14.204839Z",
     "iopub.status.idle": "2022-05-27T22:52:07.861663Z",
     "shell.execute_reply": "2022-05-27T22:52:07.860932Z",
     "shell.execute_reply.started": "2022-05-27T22:51:14.205000Z"
    },
    "tags": []
   },
   "outputs": [
    {
     "data": {
      "application/vnd.jupyter.widget-view+json": {
       "model_id": "a2b94637da5e43fd9979e09d8a67f2a7",
       "version_major": 2,
       "version_minor": 0
      },
      "text/plain": [
       "VBox()"
      ]
     },
     "metadata": {},
     "output_type": "display_data"
    },
    {
     "data": {
      "application/vnd.jupyter.widget-view+json": {
       "model_id": "",
       "version_major": 2,
       "version_minor": 0
      },
      "text/plain": [
       "FloatProgress(value=0.0, bar_style='info', description='Progress:', layout=Layout(height='25px', width='50%'),…"
      ]
     },
     "metadata": {},
     "output_type": "display_data"
    },
    {
     "name": "stdout",
     "output_type": "stream",
     "text": [
      "[6402, 4951]"
     ]
    }
   ],
   "source": [
    "\n",
    "#Quando uma linha contém pelo menos um valor null, a mesma será elimnada\n",
    "df_clean = north_stations.dropna()\n",
    "\n",
    "#Comparação de tamanho entre o dataframe que contém os valores nulos e o dataframe que não contém\n",
    "#isto é feito de modo a saber se podemos prosseguir\n",
    "[north_stations.count(), df_clean.count()]\n"
   ]
  },
  {
   "cell_type": "code",
   "execution_count": 10,
   "id": "49225586-413b-4fdb-b43f-712e34abe65b",
   "metadata": {
    "execution": {
     "iopub.execute_input": "2022-05-27T22:52:07.863209Z",
     "iopub.status.busy": "2022-05-27T22:52:07.862950Z",
     "iopub.status.idle": "2022-05-27T22:52:09.831038Z",
     "shell.execute_reply": "2022-05-27T22:52:09.801075Z",
     "shell.execute_reply.started": "2022-05-27T22:52:07.863175Z"
    },
    "tags": []
   },
   "outputs": [
    {
     "data": {
      "application/vnd.jupyter.widget-view+json": {
       "model_id": "1c0bc439cb2d490fb74fa2f8d8ad7ffd",
       "version_major": 2,
       "version_minor": 0
      },
      "text/plain": [
       "VBox()"
      ]
     },
     "metadata": {},
     "output_type": "display_data"
    },
    {
     "data": {
      "application/vnd.jupyter.widget-view+json": {
       "model_id": "",
       "version_major": 2,
       "version_minor": 0
      },
      "text/plain": [
       "FloatProgress(value=0.0, bar_style='info', description='Progress:', layout=Layout(height='25px', width='50%'),…"
      ]
     },
     "metadata": {},
     "output_type": "display_data"
    }
   ],
   "source": [
    "\n",
    "#As colunas que dizem respeito a strings são desprezadas, pois não faz sentido criarmos features com as mesmas\n",
    "columns = [col for col in df_clean.columns if col not in ['NOME', 'PAIS', 'LATITUDE', 'LONGITUDE']]\n",
    "\n",
    "#Criação de um vetor que recebe como entrada as colunas pretendidas, criando uma coluna de vetores de features\n",
    "assembler = VectorAssembler(inputCols=columns, outputCol=\"features_clustering\")\n",
    "\n",
    "#O vetor é associado aos nossos dados\n",
    "train_clustering = assembler.transform(df_clean)"
   ]
  },
  {
   "cell_type": "code",
   "execution_count": 11,
   "id": "f5cd4b26-89ff-4b48-9fe5-bc0a128465a8",
   "metadata": {
    "execution": {
     "iopub.execute_input": "2022-05-27T22:52:09.849901Z",
     "iopub.status.busy": "2022-05-27T22:52:09.849550Z",
     "iopub.status.idle": "2022-05-27T22:52:09.923785Z",
     "shell.execute_reply": "2022-05-27T22:52:09.922943Z",
     "shell.execute_reply.started": "2022-05-27T22:52:09.849862Z"
    },
    "tags": []
   },
   "outputs": [
    {
     "data": {
      "application/vnd.jupyter.widget-view+json": {
       "model_id": "9afa08c79b1445bdaf1e1dc772b3e1c8",
       "version_major": 2,
       "version_minor": 0
      },
      "text/plain": [
       "VBox()"
      ]
     },
     "metadata": {},
     "output_type": "display_data"
    },
    {
     "data": {
      "application/vnd.jupyter.widget-view+json": {
       "model_id": "",
       "version_major": 2,
       "version_minor": 0
      },
      "text/plain": [
       "FloatProgress(value=0.0, bar_style='info', description='Progress:', layout=Layout(height='25px', width='50%'),…"
      ]
     },
     "metadata": {},
     "output_type": "display_data"
    }
   ],
   "source": [
    "\n",
    "#Criação de um classificador de clustering, de modo a obtermos os valores de erro\n",
    "evaluator = ClusteringEvaluator(featuresCol='features_clustering',\n",
    "                                metricName='silhouette',\n",
    "                                distanceMeasure='squaredEuclidean')\n"
   ]
  },
  {
   "cell_type": "code",
   "execution_count": 12,
   "id": "f84f37ca-4de3-43b3-ba41-0bc7528ee9e0",
   "metadata": {
    "execution": {
     "iopub.execute_input": "2022-05-27T22:52:09.925356Z",
     "iopub.status.busy": "2022-05-27T22:52:09.925089Z",
     "iopub.status.idle": "2022-05-27T23:24:59.307607Z",
     "shell.execute_reply": "2022-05-27T23:24:59.306942Z",
     "shell.execute_reply.started": "2022-05-27T22:52:09.925321Z"
    },
    "tags": []
   },
   "outputs": [
    {
     "data": {
      "application/vnd.jupyter.widget-view+json": {
       "model_id": "511abefe73f6481c8cccf437c91d6bd2",
       "version_major": 2,
       "version_minor": 0
      },
      "text/plain": [
       "VBox()"
      ]
     },
     "metadata": {},
     "output_type": "display_data"
    },
    {
     "data": {
      "application/vnd.jupyter.widget-view+json": {
       "model_id": "",
       "version_major": 2,
       "version_minor": 0
      },
      "text/plain": [
       "FloatProgress(value=0.0, bar_style='info', description='Progress:', layout=Layout(height='25px', width='50%'),…"
      ]
     },
     "metadata": {},
     "output_type": "display_data"
    },
    {
     "name": "stderr",
     "output_type": "stream",
     "text": [
      "Exception in thread cell_monitor-12:\n",
      "Traceback (most recent call last):\n",
      "  File \"/mnt/notebook-env/lib/python3.7/threading.py\", line 926, in _bootstrap_inner\n",
      "    self.run()\n",
      "  File \"/mnt/notebook-env/lib/python3.7/threading.py\", line 870, in run\n",
      "    self._target(*self._args, **self._kwargs)\n",
      "  File \"/mnt/notebook-env/lib/python3.7/site-packages/awseditorssparkmonitoringwidget-1.0-py3.7.egg/awseditorssparkmonitoringwidget/cellmonitor.py\", line 178, in cell_monitor\n",
      "    job_binned_stages[job_id][stage_id] = all_stages[stage_id]\n",
      "KeyError: 2472\n",
      "\n"
     ]
    }
   ],
   "source": [
    "\n",
    "#Será feito um ciclo que tem como objetivo, através da variação do número de clusters, verificar qual o\n",
    "#número de clusters ideal para a construção do nosso modelo\n",
    "\n",
    "k_tests = 20\n",
    "cost = np.zeros(k_tests)\n",
    "for K in range(2, k_tests):\n",
    "    kmeans = KMeans(featuresCol='features_clustering', k=K)\n",
    "\n",
    "    model_k = kmeans.fit(train_clustering)\n",
    "    output = model_k.transform(train_clustering)\n",
    "    cost[K] = evaluator.evaluate(output)\n",
    "    "
   ]
  },
  {
   "cell_type": "code",
   "execution_count": 13,
   "id": "2ce897d0-d7c2-4934-b324-f5eb46c45c39",
   "metadata": {
    "execution": {
     "iopub.execute_input": "2022-05-27T23:24:59.309008Z",
     "iopub.status.busy": "2022-05-27T23:24:59.308643Z",
     "iopub.status.idle": "2022-05-27T23:24:59.596318Z",
     "shell.execute_reply": "2022-05-27T23:24:59.595772Z",
     "shell.execute_reply.started": "2022-05-27T23:24:59.308974Z"
    },
    "tags": []
   },
   "outputs": [
    {
     "data": {
      "application/vnd.jupyter.widget-view+json": {
       "model_id": "7e406cfd448d4b99b72546849803bab7",
       "version_major": 2,
       "version_minor": 0
      },
      "text/plain": [
       "VBox()"
      ]
     },
     "metadata": {},
     "output_type": "display_data"
    },
    {
     "data": {
      "application/vnd.jupyter.widget-view+json": {
       "model_id": "",
       "version_major": 2,
       "version_minor": 0
      },
      "text/plain": [
       "FloatProgress(value=0.0, bar_style='info', description='Progress:', layout=Layout(height='25px', width='50%'),…"
      ]
     },
     "metadata": {},
     "output_type": "display_data"
    },
    {
     "data": {
      "image/png": "[encoded data removed]",
      "text/plain": [
       "<IPython.core.display.Image object>"
      ]
     },
     "metadata": {},
     "output_type": "display_data"
    }
   ],
   "source": [
    "\n",
    "#São feitos os imports novamente de modo a permitir a visualização do gráfico\n",
    "import matplotlib.pyplot as plt\n",
    "import matplotlib\n",
    "import seaborn as sns\n",
    "\n",
    "#Construção do gráfico em que temos o valor de erro consoante o número de clusters utilizado\n",
    "#Decidimos usar 12 clusters, pois acreditamos que seja um bom valor\n",
    "fig, ax = plt.subplots(1,1,figsize=(8, 6),)\n",
    "ax.plot(range(2, k_tests), cost[2:k_tests])\n",
    "ax.set_xlabel('k')\n",
    "ax.set_ylabel('cost')\n",
    "plt.show()\n",
    "\n",
    "#Comando local para permitir a visualização do gráfico\n",
    "%matplot plt\n"
   ]
  },
  {
   "cell_type": "code",
   "execution_count": 14,
   "id": "0f0049b6-f9c0-4fe2-a477-6ebc946b04ec",
   "metadata": {
    "execution": {
     "iopub.execute_input": "2022-05-27T23:24:59.597442Z",
     "iopub.status.busy": "2022-05-27T23:24:59.597264Z",
     "iopub.status.idle": "2022-05-27T23:25:56.258574Z",
     "shell.execute_reply": "2022-05-27T23:25:56.257717Z",
     "shell.execute_reply.started": "2022-05-27T23:24:59.597421Z"
    },
    "tags": []
   },
   "outputs": [
    {
     "data": {
      "application/vnd.jupyter.widget-view+json": {
       "model_id": "0a8b3d89135a435198c0d4ba538ec30d",
       "version_major": 2,
       "version_minor": 0
      },
      "text/plain": [
       "VBox()"
      ]
     },
     "metadata": {},
     "output_type": "display_data"
    },
    {
     "data": {
      "application/vnd.jupyter.widget-view+json": {
       "model_id": "",
       "version_major": 2,
       "version_minor": 0
      },
      "text/plain": [
       "FloatProgress(value=0.0, bar_style='info', description='Progress:', layout=Layout(height='25px', width='50%'),…"
      ]
     },
     "metadata": {},
     "output_type": "display_data"
    },
    {
     "name": "stderr",
     "output_type": "stream",
     "text": [
      "Exception in thread cell_monitor-14:\n",
      "Traceback (most recent call last):\n",
      "  File \"/mnt/notebook-env/lib/python3.7/threading.py\", line 926, in _bootstrap_inner\n",
      "    self.run()\n",
      "  File \"/mnt/notebook-env/lib/python3.7/threading.py\", line 870, in run\n",
      "    self._target(*self._args, **self._kwargs)\n",
      "  File \"/mnt/notebook-env/lib/python3.7/site-packages/awseditorssparkmonitoringwidget-1.0-py3.7.egg/awseditorssparkmonitoringwidget/cellmonitor.py\", line 178, in cell_monitor\n",
      "    job_binned_stages[job_id][stage_id] = all_stages[stage_id]\n",
      "KeyError: 4755\n",
      "\n"
     ]
    }
   ],
   "source": [
    "\n",
    "#Construção de um modelo de clustering, usando 12 clusters\n",
    "kmeans_real = KMeans(featuresCol='features_clustering', k=12)\n",
    "\n",
    "#Configuração de modo a que o modelo seja treinado\n",
    "model_real = kmeans_real.fit(train_clustering)\n",
    "\n",
    "#Para cada estação meteorológica, é feita uma previsão do cluster a que pertence\n",
    "#É, também, criada uma nova coluna com os valores previstos\n",
    "predict = model_real.transform(train_clustering)\n"
   ]
  },
  {
   "cell_type": "code",
   "execution_count": 17,
   "id": "3563b013-08b1-4fab-be6e-4ec786861824",
   "metadata": {
    "execution": {
     "iopub.execute_input": "2022-05-27T23:25:56.418333Z",
     "iopub.status.busy": "2022-05-27T23:25:56.418150Z",
     "iopub.status.idle": "2022-05-27T23:25:56.504139Z",
     "shell.execute_reply": "2022-05-27T23:25:56.503422Z",
     "shell.execute_reply.started": "2022-05-27T23:25:56.418311Z"
    },
    "tags": []
   },
   "outputs": [
    {
     "data": {
      "application/vnd.jupyter.widget-view+json": {
       "model_id": "68a3f67ee5724b7088ec7253d6ea8b86",
       "version_major": 2,
       "version_minor": 0
      },
      "text/plain": [
       "VBox()"
      ]
     },
     "metadata": {},
     "output_type": "display_data"
    },
    {
     "data": {
      "application/vnd.jupyter.widget-view+json": {
       "model_id": "",
       "version_major": 2,
       "version_minor": 0
      },
      "text/plain": [
       "FloatProgress(value=0.0, bar_style='info', description='Progress:', layout=Layout(height='25px', width='50%'),…"
      ]
     },
     "metadata": {},
     "output_type": "display_data"
    }
   ],
   "source": [
    "\n",
    "#Os dados obtidos vão ser guardados, em formato parquet, no bucket criado pelo nosso grupo\n",
    "#Como não é possível visualizar o nosso mapa na platafomra aws, estes dados são guardados para serem vistos de forma local\n",
    "#predict.write.format('parquet').save('s3://bigdatanoaa/world_map')\n"
   ]
  },
  {
   "cell_type": "code",
   "execution_count": 16,
   "id": "9c62dae0-d5f8-4249-9aaf-065b3c508353",
   "metadata": {
    "execution": {
     "iopub.execute_input": "2022-05-27T23:25:56.330265Z",
     "iopub.status.busy": "2022-05-27T23:25:56.329388Z",
     "iopub.status.idle": "2022-05-27T23:25:56.416871Z",
     "shell.execute_reply": "2022-05-27T23:25:56.416225Z",
     "shell.execute_reply.started": "2022-05-27T23:25:56.330227Z"
    },
    "tags": []
   },
   "outputs": [
    {
     "data": {
      "application/vnd.jupyter.widget-view+json": {
       "model_id": "59a6dfd7075b48d5ac38f9c484c0393d",
       "version_major": 2,
       "version_minor": 0
      },
      "text/plain": [
       "VBox()"
      ]
     },
     "metadata": {},
     "output_type": "display_data"
    },
    {
     "data": {
      "application/vnd.jupyter.widget-view+json": {
       "model_id": "",
       "version_major": 2,
       "version_minor": 0
      },
      "text/plain": [
       "FloatProgress(value=0.0, bar_style='info', description='Progress:', layout=Layout(height='25px', width='50%'),…"
      ]
     },
     "metadata": {},
     "output_type": "display_data"
    }
   ],
   "source": [
    "\n",
    "#Este código permite criar um mapa do mundo, ao qual vão ser adicionados os diversos clusters criados pelo nosso modelo\n",
    "#Através do mapa, conseguimos observar todas as estações do hemisfério norte, coloridas conforme o cluster previsto\n",
    "#Visto que a visualização do mapa não é possível, este código vai ser implementado num outro notebook processado de forma local\n",
    "\n",
    "#import folium\n",
    "#from IPython.display import display\n",
    "\n",
    "#world_map = folium.Map()\n",
    "#geolocator = Nominatim(user_agent=\"Temperatures\")\n",
    "\n",
    "#city_color = [\n",
    "    #\"red\",\n",
    "    #\"yellow\",\n",
    "    #\"blue\",\n",
    "    #\"yellow\",\n",
    "    #\"violet\",\n",
    "    #\"purple\",\n",
    "    #\"pink\",\n",
    "    #\"silver\",\n",
    "    #\"gold\",\n",
    "    #\"green\",\n",
    "    #\"brown\",\n",
    "    #\"black\",\n",
    "    #\"gray\",\n",
    "#]\n",
    "\n",
    "#collect_data = predict.collect()\n",
    "\n",
    "#for raw in collect_data:\n",
    "\n",
    "    #lat = raw[\"LATITUDE\"]\n",
    "    #long = raw[\"LONGITUDE\"]\n",
    "\n",
    "    #folium.Circle(location=[lat, long],\n",
    "                  #popup=raw[\"NOME\"],\n",
    "                  #radius=30000,\n",
    "                  #color=city_color[raw[\"prediction\"]],\n",
    "                  #fill=True,\n",
    "                  #fill_color=city_color[raw[\"prediction\"]]).add_to(world_map)\n",
    "\n",
    "#display(world_map)\n"
   ]
  },
  {
   "cell_type": "code",
   "execution_count": null,
   "id": "8f1b2215-46fd-4be4-b19b-4a23de50b3cd",
   "metadata": {},
   "outputs": [],
   "source": []
  }
 ],
 "metadata": {
  "kernelspec": {
   "display_name": "PySpark",
   "language": "",
   "name": "pysparkkernel"
  },
  "language_info": {
   "codemirror_mode": {
    "name": "python",
    "version": 3
   },
   "mimetype": "text/x-python",
   "name": "pyspark",
   "pygments_lexer": "python3"
  }
 },
 "nbformat": 4,
 "nbformat_minor": 5
}
